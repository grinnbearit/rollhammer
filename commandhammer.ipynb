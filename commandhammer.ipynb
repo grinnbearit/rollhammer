{
 "cells": [
  {
   "cell_type": "markdown",
   "id": "056b9641-9acf-4c11-a487-78604bc7342a",
   "metadata": {},
   "source": [
    "# Command Hammer\n",
    "\n",
    "A Command and Colours derivative for Warhammer Fantasy"
   ]
  },
  {
   "cell_type": "code",
   "execution_count": 1,
   "id": "8ddacfb1-cf96-4d6b-9260-41b6260d585a",
   "metadata": {},
   "outputs": [],
   "source": [
    "import numpy as np\n",
    "import pandas as pd\n",
    "import seaborn as sns\n",
    "import scipy.signal as sig\n",
    "import scipy.stats as stats\n",
    "from fractions import Fraction\n",
    "import matplotlib.pyplot as plt"
   ]
  },
  {
   "cell_type": "code",
   "execution_count": 2,
   "id": "44455dc3-3c9e-41d7-9b39-1b8081c952e3",
   "metadata": {},
   "outputs": [],
   "source": [
    "sns.set_theme()"
   ]
  },
  {
   "cell_type": "markdown",
   "id": "c9eb9b74-31be-4617-8550-a120efeb20c8",
   "metadata": {},
   "source": [
    "## Simulate    "
   ]
  },
  {
   "cell_type": "code",
   "execution_count": 3,
   "id": "2bf18bb0-4ee9-447a-a476-30769d7c64c5",
   "metadata": {},
   "outputs": [],
   "source": [
    "def attack_roll(attacks, attacker_ws, defender_ws, samples=100000):\n",
    "    target = min(max(3, 7 - (attacker_ws - defender_ws)), 12)\n",
    "    rolls = stats.randint(1, 7).rvs((samples, 2)).sum(axis=1)\n",
    "    successes = np.where(rolls >= target, rolls - target + 1, 0)\n",
    "    bounded = np.where(successes >= attacks, attacks, successes)\n",
    "    return bounded"
   ]
  },
  {
   "cell_type": "code",
   "execution_count": 4,
   "id": "463e4eda-a3db-4ed1-8ffc-de7fda7ccaca",
   "metadata": {},
   "outputs": [],
   "source": [
    "def break_roll(hits, attacker_s, defender_t):\n",
    "    target = min(max(3, 7 - (attacker_s - defender_t)), 12)\n",
    "    rolls = stats.randint(1, 7).rvs((hits.size, 2)).sum(axis=1)\n",
    "    successes = np.where((hits != 0) & (rolls >= target), rolls - target + 1, 0)\n",
    "    damage = np.where(successes >= hits, hits, successes)\n",
    "    retreats = np.where(successes > hits, successes - hits, 0)\n",
    "    return np.concatenate([damage.reshape(-1, 1), retreats.reshape(-1, 1)], axis=1)"
   ]
  },
  {
   "cell_type": "code",
   "execution_count": 5,
   "id": "5f7b8192-c919-46d6-bda8-ff35d5d34095",
   "metadata": {},
   "outputs": [],
   "source": [
    "def adjusted_break(breaks, defender_ld):\n",
    "    damage = breaks[:, 0]\n",
    "    base = breaks[:, 1]\n",
    "    if defender_ld >= 0:\n",
    "        retreats = np.where(base > defender_ld, base - defender_ld, 0)\n",
    "    else:\n",
    "        abs_ld = (- defender_ld)\n",
    "        retreats = np.where(damage > abs_ld, base + abs_ld, base + damage)\n",
    "    return np.concatenate([damage.reshape(-1, 1), retreats.reshape(-1, 1)], axis=1)"
   ]
  },
  {
   "cell_type": "code",
   "execution_count": 6,
   "id": "7739e43e-b478-43d0-9758-20b5f9e5a372",
   "metadata": {},
   "outputs": [],
   "source": [
    "def combat_resolution(attacks, attacker_ws, defender_ws, attacker_s, defender_t, defender_ld, samples=10000):\n",
    "    return adjusted_break(break_roll(attack_roll(attacks, attacker_ws, defender_ws, samples=samples), \n",
    "                                     attacker_s, defender_t), \n",
    "                          defender_ld)"
   ]
  },
  {
   "cell_type": "code",
   "execution_count": 7,
   "id": "f4d51935-cb9a-436c-b85a-e58b17864d71",
   "metadata": {},
   "outputs": [],
   "source": [
    "def combat_stats(resolution):\n",
    "    df = (pd.DataFrame(resolution, columns=[\"damage\", \"retreats\"])\n",
    "          .assign(freq=1)\n",
    "          .groupby([\"damage\", \"retreats\"])\n",
    "          .count()\n",
    "          .assign(prob=lambda df: df[\"freq\"]/df[\"freq\"].sum())\n",
    "          .reset_index()\n",
    "          .sort_values(\"prob\", ascending=False))\n",
    "    return df"
   ]
  },
  {
   "cell_type": "code",
   "execution_count": 8,
   "id": "ffbc16a2-c2de-4516-8ef1-affae39cf949",
   "metadata": {},
   "outputs": [],
   "source": [
    "def combat_expectation(resolution):\n",
    "    return resolution.mean(axis=0)"
   ]
  },
  {
   "cell_type": "code",
   "execution_count": 9,
   "id": "75edd4f8-e495-4ae3-aa9e-369e95d96be8",
   "metadata": {},
   "outputs": [
    {
     "name": "stdout",
     "output_type": "stream",
     "text": [
      "In combat [0.6191 0.3044]\n",
      "One Charger [0.8313 0.7174]\n",
      "Two Chargers [1.0313 1.2367]\n",
      "Three Chargers [1.1814 1.4254]\n"
     ]
    }
   ],
   "source": [
    "print(\"In combat\", combat_expectation(combat_resolution(4, 0, 0, 0, 0, 0)))\n",
    "print(\"One Charger\", combat_expectation(combat_resolution(4, 1, 0, 0, 0, -1)))\n",
    "print(\"Two Chargers\", combat_expectation(combat_resolution(4, 2, 0, 0, 0, -3)))\n",
    "print(\"Three Chargers\", combat_expectation(combat_resolution(4, 3, 0, 0, 0, -5)))"
   ]
  }
 ],
 "metadata": {
  "kernelspec": {
   "display_name": "Python 3 (ipykernel)",
   "language": "python",
   "name": "python3"
  },
  "language_info": {
   "codemirror_mode": {
    "name": "ipython",
    "version": 3
   },
   "file_extension": ".py",
   "mimetype": "text/x-python",
   "name": "python",
   "nbconvert_exporter": "python",
   "pygments_lexer": "ipython3",
   "version": "3.10.9"
  }
 },
 "nbformat": 4,
 "nbformat_minor": 5
}
