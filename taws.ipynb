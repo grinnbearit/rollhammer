{
 "cells": [
  {
   "cell_type": "markdown",
   "metadata": {},
   "source": [
    "# Totally Accurate Warhammer Simulator"
   ]
  },
  {
   "cell_type": "markdown",
   "metadata": {},
   "source": [
    "Inspired by the question, \"What's the better value? A unit of 10 Liberators with paired Hammers at 200 points or a unit of 5 Retributors at 220 points?\"\n",
    "\n",
    "The real answer is, of course, it depends. \n",
    "\n",
    "Can all your Liberators get into combat? But you can't take 2.5 Retributors into combat for 110 points either.\n",
    "\n",
    "But we're ignoring all that and having fun!"
   ]
  },
  {
   "cell_type": "code",
   "execution_count": 1,
   "metadata": {},
   "outputs": [],
   "source": [
    "import numpy as np\n",
    "import pandas as pd\n",
    "import seaborn as sns\n",
    "import matplotlib.pyplot as plt\n",
    "%matplotlib inline\n",
    "sns.set()"
   ]
  },
  {
   "cell_type": "code",
   "execution_count": 2,
   "metadata": {},
   "outputs": [],
   "source": [
    "import battletome.stormcast as stormcast"
   ]
  },
  {
   "cell_type": "markdown",
   "metadata": {},
   "source": [
    "## Liberator vs Liberator"
   ]
  },
  {
   "cell_type": "markdown",
   "metadata": {},
   "source": [
    "Your \"_hammer_ and board\" Liberator vs your Dual Wielding Liberator vs your Two-Handed Liberator"
   ]
  },
  {
   "cell_type": "code",
   "execution_count": 3,
   "metadata": {},
   "outputs": [
    {
     "name": "stdout",
     "output_type": "stream",
     "text": [
      "Liberator (Warhammer and Sigmarite Shield) [2/2]\n",
      "A:2, H:4+, W:3+, R:-, D:1\n"
     ]
    }
   ],
   "source": [
    "standard = stormcast.Liberator()\n",
    "print(standard.describe())"
   ]
  },
  {
   "cell_type": "code",
   "execution_count": 4,
   "metadata": {},
   "outputs": [
    {
     "name": "stdout",
     "output_type": "stream",
     "text": [
      "Liberator (Paired Warhammers) [2/2]\n",
      "A:2, H:4+, W:3+, R:-, D:1\n"
     ]
    }
   ],
   "source": [
    "dual_wielding = stormcast.Liberator(has_paired=True)\n",
    "print(dual_wielding.describe())"
   ]
  },
  {
   "cell_type": "code",
   "execution_count": 5,
   "metadata": {},
   "outputs": [
    {
     "name": "stdout",
     "output_type": "stream",
     "text": [
      "Liberator (Grandhammer) [2/2]\n",
      "A:2, H:4+, W:3+, R:-1, D:2\n"
     ]
    }
   ],
   "source": [
    "two_handed = stormcast.Liberator(weapon=2)\n",
    "print(two_handed.describe())"
   ]
  },
  {
   "cell_type": "markdown",
   "metadata": {},
   "source": [
    "### The Challenge"
   ]
  },
  {
   "cell_type": "markdown",
   "metadata": {},
   "source": [
    "Each unit will have 3 liberators of the same type against an enemy of Save 4+, no modifiers.\n",
    "\n",
    "Simulated 100,000 times"
   ]
  },
  {
   "cell_type": "code",
   "execution_count": 6,
   "metadata": {},
   "outputs": [
    {
     "name": "stdout",
     "output_type": "stream",
     "text": [
      "39\n"
     ]
    },
    {
     "data": {
      "text/html": [
       "<div>\n",
       "<style scoped>\n",
       "    .dataframe tbody tr th:only-of-type {\n",
       "        vertical-align: middle;\n",
       "    }\n",
       "\n",
       "    .dataframe tbody tr th {\n",
       "        vertical-align: top;\n",
       "    }\n",
       "\n",
       "    .dataframe thead th {\n",
       "        text-align: right;\n",
       "    }\n",
       "</style>\n",
       "<table border=\"1\" class=\"dataframe\">\n",
       "  <thead>\n",
       "    <tr style=\"text-align: right;\">\n",
       "      <th></th>\n",
       "      <th>damage</th>\n",
       "      <th>frequency</th>\n",
       "      <th>unit</th>\n",
       "    </tr>\n",
       "  </thead>\n",
       "  <tbody>\n",
       "    <tr>\n",
       "      <th>0</th>\n",
       "      <td>0</td>\n",
       "      <td>33604</td>\n",
       "      <td>Hammer and Shield</td>\n",
       "    </tr>\n",
       "    <tr>\n",
       "      <th>1</th>\n",
       "      <td>1</td>\n",
       "      <td>39949</td>\n",
       "      <td>Hammer and Shield</td>\n",
       "    </tr>\n",
       "    <tr>\n",
       "      <th>2</th>\n",
       "      <td>2</td>\n",
       "      <td>20111</td>\n",
       "      <td>Hammer and Shield</td>\n",
       "    </tr>\n",
       "  </tbody>\n",
       "</table>\n",
       "</div>"
      ],
      "text/plain": [
       "   damage  frequency               unit\n",
       "0       0      33604  Hammer and Shield\n",
       "1       1      39949  Hammer and Shield\n",
       "2       2      20111  Hammer and Shield"
      ]
     },
     "execution_count": 6,
     "metadata": {},
     "output_type": "execute_result"
    }
   ],
   "source": [
    "data = pd.concat([pd.DataFrame({\"damage\": range(13),\n",
    "                                \"frequency\": np.bincount(standard.attack(3, size=100000), minlength=13),\n",
    "                                \"unit\": \"Hammer and Shield\"}),\n",
    "                  pd.DataFrame({\"damage\": range(13),\n",
    "                                \"frequency\": np.bincount(dual_wielding.attack(3, size=100000), minlength=13),\n",
    "                                \"unit\": \"Paired Hammers\"}),\n",
    "                  pd.DataFrame({\"damage\": range(13),\n",
    "                                \"frequency\": np.bincount(two_handed.attack(3, size=100000), minlength=13),\n",
    "                                \"unit\": \"Grandhammers\"})])\n",
    "print(len(data))\n",
    "data[:3]"
   ]
  },
  {
   "cell_type": "code",
   "execution_count": 7,
   "metadata": {},
   "outputs": [
    {
     "data": {
      "text/plain": [
       "Text(0.5, 1.0, 'Comparing Damage of Units of 3 Liberators\\nSave 4+')"
      ]
     },
     "execution_count": 7,
     "metadata": {},
     "output_type": "execute_result"
    },
    {
     "data": {
      "image/png": "[encoded data removed]",
      "text/plain": [
       "<Figure size 972x720 with 1 Axes>"
      ]
     },
     "metadata": {},
     "output_type": "display_data"
    }
   ],
   "source": [
    "f, ax = plt.subplots(1, 1)\n",
    "f.set_size_inches(13.5, 10)\n",
    "sns.histplot(data=data, x=\"damage\", hue=\"unit\", weights=\"frequency\", bins=13, discrete=True, stat=\"density\")\n",
    "ax.set_title(\"Comparing Damage of Units of 3 Liberators\\n\"\n",
    "             \"Save 4+\")"
   ]
  },
  {
   "cell_type": "markdown",
   "metadata": {},
   "source": [
    "Which is what we expect, the next step here would be to incorporate survivability."
   ]
  },
  {
   "cell_type": "markdown",
   "metadata": {},
   "source": [
    "### Hammers vs Swords"
   ]
  },
  {
   "cell_type": "markdown",
   "metadata": {},
   "source": [
    "Are the implements of Sigmar worth using or should they be tossed aside for cold steel"
   ]
  },
  {
   "cell_type": "code",
   "execution_count": 8,
   "metadata": {},
   "outputs": [
    {
     "name": "stdout",
     "output_type": "stream",
     "text": [
      "Liberator (Paired Warhammers) [2/2]\n",
      "A:2, H:4+, W:3+, R:-, D:1\n"
     ]
    }
   ],
   "source": [
    "dual_hammers = stormcast.Liberator(has_paired=True)\n",
    "print(dual_hammers.describe())"
   ]
  },
  {
   "cell_type": "code",
   "execution_count": 9,
   "metadata": {},
   "outputs": [
    {
     "name": "stdout",
     "output_type": "stream",
     "text": [
      "Liberator (Paired Warblades) [2/2]\n",
      "A:2, H:3+, W:4+, R:-, D:1\n"
     ]
    }
   ],
   "source": [
    "dual_blades = stormcast.Liberator(weapon=1, has_paired=True)\n",
    "print(dual_blades.describe())"
   ]
  },
  {
   "cell_type": "code",
   "execution_count": 10,
   "metadata": {},
   "outputs": [
    {
     "name": "stdout",
     "output_type": "stream",
     "text": [
      "14\n"
     ]
    },
    {
     "data": {
      "text/html": [
       "<div>\n",
       "<style scoped>\n",
       "    .dataframe tbody tr th:only-of-type {\n",
       "        vertical-align: middle;\n",
       "    }\n",
       "\n",
       "    .dataframe tbody tr th {\n",
       "        vertical-align: top;\n",
       "    }\n",
       "\n",
       "    .dataframe thead th {\n",
       "        text-align: right;\n",
       "    }\n",
       "</style>\n",
       "<table border=\"1\" class=\"dataframe\">\n",
       "  <thead>\n",
       "    <tr style=\"text-align: right;\">\n",
       "      <th></th>\n",
       "      <th>damage</th>\n",
       "      <th>frequency</th>\n",
       "      <th>unit</th>\n",
       "    </tr>\n",
       "  </thead>\n",
       "  <tbody>\n",
       "    <tr>\n",
       "      <th>0</th>\n",
       "      <td>0</td>\n",
       "      <td>31508</td>\n",
       "      <td>Paired Warhammers</td>\n",
       "    </tr>\n",
       "    <tr>\n",
       "      <th>1</th>\n",
       "      <td>1</td>\n",
       "      <td>40165</td>\n",
       "      <td>Paired Warhammers</td>\n",
       "    </tr>\n",
       "    <tr>\n",
       "      <th>2</th>\n",
       "      <td>2</td>\n",
       "      <td>21183</td>\n",
       "      <td>Paired Warhammers</td>\n",
       "    </tr>\n",
       "  </tbody>\n",
       "</table>\n",
       "</div>"
      ],
      "text/plain": [
       "   damage  frequency               unit\n",
       "0       0      31508  Paired Warhammers\n",
       "1       1      40165  Paired Warhammers\n",
       "2       2      21183  Paired Warhammers"
      ]
     },
     "execution_count": 10,
     "metadata": {},
     "output_type": "execute_result"
    }
   ],
   "source": [
    "data = pd.concat([pd.DataFrame({\"damage\": range(7),\n",
    "                                \"frequency\": np.bincount(dual_hammers.attack(3, size=100000), minlength=7),\n",
    "                                \"unit\": \"Paired Warhammers\"}),\n",
    "                  pd.DataFrame({\"damage\": range(7),\n",
    "                                \"frequency\": np.bincount(dual_blades.attack(3, size=100000), minlength=7),\n",
    "                                \"unit\": \"Paired Warblades\"})])\n",
    "print(len(data))\n",
    "data[:3]"
   ]
  },
  {
   "cell_type": "code",
   "execution_count": 11,
   "metadata": {},
   "outputs": [
    {
     "data": {
      "text/plain": [
       "Text(0.5, 1.0, 'Comparing Damage of Units of 3 Liberators\\nSave 4+')"
      ]
     },
     "execution_count": 11,
     "metadata": {},
     "output_type": "execute_result"
    },
    {
     "data": {
      "image/png": "[encoded data removed]",
      "text/plain": [
       "<Figure size 972x720 with 1 Axes>"
      ]
     },
     "metadata": {},
     "output_type": "display_data"
    }
   ],
   "source": [
    "f, ax = plt.subplots(1, 1)\n",
    "f.set_size_inches(13.5, 10)\n",
    "sns.histplot(data=data, x=\"damage\", hue=\"unit\", weights=\"frequency\", bins=7, discrete=True, stat=\"density\")\n",
    "ax.set_title(\"Comparing Damage of Units of 3 Liberators\\n\"\n",
    "             \"Save 4+\")"
   ]
  },
  {
   "cell_type": "markdown",
   "metadata": {},
   "source": [
    "Interestingly \"Paired Warhammers\" does _slightly_ better than \"Paired Warblades\", looks like Sigmar was right all along."
   ]
  }
 ],
 "metadata": {
  "kernelspec": {
   "display_name": "Python 3",
   "language": "python",
   "name": "python3"
  },
  "language_info": {
   "codemirror_mode": {
    "name": "ipython",
    "version": 3
   },
   "file_extension": ".py",
   "mimetype": "text/x-python",
   "name": "python",
   "nbconvert_exporter": "python",
   "pygments_lexer": "ipython3",
   "version": "3.9.0"
  }
 },
 "nbformat": 4,
 "nbformat_minor": 4
}
