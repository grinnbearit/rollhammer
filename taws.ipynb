{
 "cells": [
  {
   "cell_type": "markdown",
   "metadata": {},
   "source": [
    "# Totally Accurate Warhammer Simulator"
   ]
  },
  {
   "cell_type": "markdown",
   "metadata": {},
   "source": [
    "Inspired by the question, \"What's the better value? A unit of 10 Liberators with paired Hammers at 200 points or a unit of 5 Retributors at 220 points?\"\n",
    "\n",
    "The real answer is, of course, it depends. \n",
    "\n",
    "Can all your Liberators get into combat? But you can't take 2.5 Retributors into combat for 110 points either.\n",
    "\n",
    "But we're ignoring all that and having fun!"
   ]
  },
  {
   "cell_type": "code",
   "execution_count": 1,
   "metadata": {},
   "outputs": [],
   "source": [
    "import numpy as np\n",
    "import pandas as pd\n",
    "import seaborn as sns\n",
    "import matplotlib.pyplot as plt\n",
    "%matplotlib inline\n",
    "sns.set()"
   ]
  },
  {
   "cell_type": "code",
   "execution_count": 2,
   "metadata": {},
   "outputs": [],
   "source": [
    "from battletome.stormcast import Liberator"
   ]
  },
  {
   "cell_type": "markdown",
   "metadata": {},
   "source": [
    "## Liberator vs Liberator"
   ]
  },
  {
   "cell_type": "markdown",
   "metadata": {},
   "source": [
    "### Hammer and Shield vs Paired Hammers"
   ]
  },
  {
   "cell_type": "code",
   "execution_count": 3,
   "metadata": {},
   "outputs": [
    {
     "name": "stdout",
     "output_type": "stream",
     "text": [
      "Liberator (Warhammer and Sigmarite Shield) [2/2]\n",
      "A:2, H:4+, W:3+, R:-, D:1\n"
     ]
    }
   ],
   "source": [
    "hammer_and_shield = Liberator()\n",
    "print(hammer_and_shield.describe())"
   ]
  },
  {
   "cell_type": "code",
   "execution_count": 4,
   "metadata": {},
   "outputs": [
    {
     "name": "stdout",
     "output_type": "stream",
     "text": [
      "Liberator (Paired Warhammers) [2/2]\n",
      "A:2, H:4+, W:3+, R:-, D:1\n"
     ]
    }
   ],
   "source": [
    "paired_hammers = Liberator(has_paired=True)\n",
    "print(paired_hammers.describe())"
   ]
  },
  {
   "cell_type": "markdown",
   "metadata": {},
   "source": [
    "Comparing the damage output distribution of Units of size 20, each fully composed of 1 type of Liberator"
   ]
  },
  {
   "cell_type": "code",
   "execution_count": 5,
   "metadata": {},
   "outputs": [
    {
     "name": "stdout",
     "output_type": "stream",
     "text": [
      "82\n"
     ]
    },
    {
     "data": {
      "text/html": [
       "<div>\n",
       "<style scoped>\n",
       "    .dataframe tbody tr th:only-of-type {\n",
       "        vertical-align: middle;\n",
       "    }\n",
       "\n",
       "    .dataframe tbody tr th {\n",
       "        vertical-align: top;\n",
       "    }\n",
       "\n",
       "    .dataframe thead th {\n",
       "        text-align: right;\n",
       "    }\n",
       "</style>\n",
       "<table border=\"1\" class=\"dataframe\">\n",
       "  <thead>\n",
       "    <tr style=\"text-align: right;\">\n",
       "      <th></th>\n",
       "      <th>damage</th>\n",
       "      <th>frequency</th>\n",
       "      <th>unit</th>\n",
       "    </tr>\n",
       "  </thead>\n",
       "  <tbody>\n",
       "    <tr>\n",
       "      <th>0</th>\n",
       "      <td>0</td>\n",
       "      <td>68</td>\n",
       "      <td>Hammer and Shield</td>\n",
       "    </tr>\n",
       "    <tr>\n",
       "      <th>1</th>\n",
       "      <td>1</td>\n",
       "      <td>533</td>\n",
       "      <td>Hammer and Shield</td>\n",
       "    </tr>\n",
       "    <tr>\n",
       "      <th>2</th>\n",
       "      <td>2</td>\n",
       "      <td>2044</td>\n",
       "      <td>Hammer and Shield</td>\n",
       "    </tr>\n",
       "  </tbody>\n",
       "</table>\n",
       "</div>"
      ],
      "text/plain": [
       "   damage  frequency               unit\n",
       "0       0         68  Hammer and Shield\n",
       "1       1        533  Hammer and Shield\n",
       "2       2       2044  Hammer and Shield"
      ]
     },
     "execution_count": 5,
     "metadata": {},
     "output_type": "execute_result"
    }
   ],
   "source": [
    "UNIT_STRENGTH = 20\n",
    "SIMULATIONS = 100000\n",
    "max_damage = UNIT_STRENGTH*2+1\n",
    "\n",
    "data = pd.concat([pd.DataFrame({\"damage\": range(max_damage),\n",
    "                                \"frequency\": np.bincount(hammer_and_shield.attack(UNIT_STRENGTH, size=SIMULATIONS), \n",
    "                                                         minlength=max_damage),\n",
    "                                \"unit\": \"Hammer and Shield\"}),\n",
    "                  pd.DataFrame({\"damage\": range(max_damage),\n",
    "                                \"frequency\": np.bincount(paired_hammers.attack(UNIT_STRENGTH, size=SIMULATIONS), \n",
    "                                                         minlength=max_damage),\n",
    "                                \"unit\": \"Paired Hammers\"})])\n",
    "print(len(data))\n",
    "data[:3]"
   ]
  },
  {
   "cell_type": "code",
   "execution_count": 6,
   "metadata": {},
   "outputs": [
    {
     "data": {
      "text/plain": [
       "Text(0.5, 1.0, 'Comparing Damage of Hammer and Shield vs Paired Hammers\\nUnits of 20, Save 4+, No Tyrant')"
      ]
     },
     "execution_count": 6,
     "metadata": {},
     "output_type": "execute_result"
    },
    {
     "data": {
      "image/png": "[encoded data removed]",
      "text/plain": [
       "<Figure size 972x720 with 1 Axes>"
      ]
     },
     "metadata": {},
     "output_type": "display_data"
    }
   ],
   "source": [
    "f, ax = plt.subplots(1, 1)\n",
    "f.set_size_inches(13.5, 10)\n",
    "sns.histplot(data=data, x=\"damage\", hue=\"unit\", weights=\"frequency\", bins=13, discrete=True, stat=\"density\")\n",
    "ax.set_title(\"Comparing Damage of Hammer and Shield vs Paired Hammers\\n\"\n",
    "             \"Units of 20, Save 4+, No Tyrant\")"
   ]
  },
  {
   "cell_type": "markdown",
   "metadata": {},
   "source": [
    "Interestingly, paired weapons, which reroll hits of 1, aren't really better than a hammer and shield."
   ]
  },
  {
   "cell_type": "code",
   "execution_count": 7,
   "metadata": {},
   "outputs": [
    {
     "data": {
      "text/plain": [
       "unit\n",
       "Hammer and Shield    6.66990\n",
       "Paired Hammers       6.67328\n",
       "Name: expected_damage, dtype: float64"
      ]
     },
     "execution_count": 7,
     "metadata": {},
     "output_type": "execute_result"
    }
   ],
   "source": [
    "(data\n",
    " .assign(total=lambda df: df[\"damage\"]*df[\"frequency\"])\n",
    " .groupby(\"unit\")\n",
    " [[\"frequency\", \"total\"]]\n",
    " .sum()\n",
    " .assign(expected_damage=lambda df: df[\"total\"]/df[\"frequency\"])\n",
    " [\"expected_damage\"])"
   ]
  },
  {
   "cell_type": "markdown",
   "metadata": {},
   "source": [
    "### Hammers vs Swords"
   ]
  },
  {
   "cell_type": "markdown",
   "metadata": {},
   "source": [
    "Are the implements of Sigmar worth using or should they be tossed aside for cold steel"
   ]
  },
  {
   "cell_type": "code",
   "execution_count": 8,
   "metadata": {},
   "outputs": [
    {
     "name": "stdout",
     "output_type": "stream",
     "text": [
      "Liberator (Paired Warhammers) [2/2]\n",
      "A:2, H:4+, W:3+, R:-, D:1\n"
     ]
    }
   ],
   "source": [
    "paired_hammers = Liberator(has_paired=True)\n",
    "print(paired_hammers.describe())"
   ]
  },
  {
   "cell_type": "code",
   "execution_count": 9,
   "metadata": {},
   "outputs": [
    {
     "name": "stdout",
     "output_type": "stream",
     "text": [
      "Liberator (Paired Warblades) [2/2]\n",
      "A:2, H:3+, W:4+, R:-, D:1\n"
     ]
    }
   ],
   "source": [
    "paired_blades = Liberator(weapon=1, has_paired=True)\n",
    "print(paired_blades.describe())"
   ]
  },
  {
   "cell_type": "code",
   "execution_count": 10,
   "metadata": {},
   "outputs": [
    {
     "name": "stdout",
     "output_type": "stream",
     "text": [
      "82\n"
     ]
    },
    {
     "data": {
      "text/html": [
       "<div>\n",
       "<style scoped>\n",
       "    .dataframe tbody tr th:only-of-type {\n",
       "        vertical-align: middle;\n",
       "    }\n",
       "\n",
       "    .dataframe tbody tr th {\n",
       "        vertical-align: top;\n",
       "    }\n",
       "\n",
       "    .dataframe thead th {\n",
       "        text-align: right;\n",
       "    }\n",
       "</style>\n",
       "<table border=\"1\" class=\"dataframe\">\n",
       "  <thead>\n",
       "    <tr style=\"text-align: right;\">\n",
       "      <th></th>\n",
       "      <th>damage</th>\n",
       "      <th>frequency</th>\n",
       "      <th>unit</th>\n",
       "    </tr>\n",
       "  </thead>\n",
       "  <tbody>\n",
       "    <tr>\n",
       "      <th>0</th>\n",
       "      <td>0</td>\n",
       "      <td>87</td>\n",
       "      <td>Paired Hammers</td>\n",
       "    </tr>\n",
       "    <tr>\n",
       "      <th>1</th>\n",
       "      <td>1</td>\n",
       "      <td>539</td>\n",
       "      <td>Paired Hammers</td>\n",
       "    </tr>\n",
       "    <tr>\n",
       "      <th>2</th>\n",
       "      <td>2</td>\n",
       "      <td>2147</td>\n",
       "      <td>Paired Hammers</td>\n",
       "    </tr>\n",
       "  </tbody>\n",
       "</table>\n",
       "</div>"
      ],
      "text/plain": [
       "   damage  frequency            unit\n",
       "0       0         87  Paired Hammers\n",
       "1       1        539  Paired Hammers\n",
       "2       2       2147  Paired Hammers"
      ]
     },
     "execution_count": 10,
     "metadata": {},
     "output_type": "execute_result"
    }
   ],
   "source": [
    "UNIT_STRENGTH = 20\n",
    "SIMULATIONS = 100000\n",
    "max_damage = UNIT_STRENGTH*2+1\n",
    "\n",
    "data = pd.concat([pd.DataFrame({\"damage\": range(max_damage),\n",
    "                                \"frequency\": np.bincount(paired_hammers.attack(UNIT_STRENGTH, size=SIMULATIONS), \n",
    "                                                         minlength=max_damage),\n",
    "                                \"unit\": \"Paired Hammers\"}),\n",
    "                  pd.DataFrame({\"damage\": range(max_damage),\n",
    "                                \"frequency\": np.bincount(paired_blades.attack(UNIT_STRENGTH, size=SIMULATIONS), \n",
    "                                                         minlength=max_damage),\n",
    "                                \"unit\": \"Paired Blades\"})])\n",
    "print(len(data))\n",
    "data[:3]"
   ]
  },
  {
   "cell_type": "code",
   "execution_count": 11,
   "metadata": {},
   "outputs": [
    {
     "data": {
      "text/plain": [
       "Text(0.5, 1.0, 'Comparing Damage of Paired Hammers and Paired Blades\\nUnits of 20, Save 4+, No Tyrant')"
      ]
     },
     "execution_count": 11,
     "metadata": {},
     "output_type": "execute_result"
    },
    {
     "data": {
      "image/png": "[encoded data removed]",
      "text/plain": [
       "<Figure size 972x720 with 1 Axes>"
      ]
     },
     "metadata": {},
     "output_type": "display_data"
    }
   ],
   "source": [
    "f, ax = plt.subplots(1, 1)\n",
    "f.set_size_inches(13.5, 10)\n",
    "sns.histplot(data=data, x=\"damage\", hue=\"unit\", weights=\"frequency\", bins=13, discrete=True, stat=\"density\")\n",
    "ax.set_title(\"Comparing Damage of Paired Hammers and Paired Blades\\n\"\n",
    "             \"Units of 20, Save 4+, No Tyrant\")"
   ]
  },
  {
   "cell_type": "markdown",
   "metadata": {},
   "source": [
    "Once again, no real difference between the two"
   ]
  },
  {
   "cell_type": "code",
   "execution_count": 12,
   "metadata": {},
   "outputs": [
    {
     "data": {
      "text/plain": [
       "unit\n",
       "Paired Blades     6.66462\n",
       "Paired Hammers    6.67877\n",
       "Name: expected_damage, dtype: float64"
      ]
     },
     "execution_count": 12,
     "metadata": {},
     "output_type": "execute_result"
    }
   ],
   "source": [
    "(data\n",
    " .assign(total=lambda df: df[\"damage\"]*df[\"frequency\"])\n",
    " .groupby(\"unit\")\n",
    " [[\"frequency\", \"total\"]]\n",
    " .sum()\n",
    " .assign(expected_damage=lambda df: df[\"total\"]/df[\"frequency\"])\n",
    " [\"expected_damage\"])"
   ]
  }
 ],
 "metadata": {
  "kernelspec": {
   "display_name": "Python 3",
   "language": "python",
   "name": "python3"
  },
  "language_info": {
   "codemirror_mode": {
    "name": "ipython",
    "version": 3
   },
   "file_extension": ".py",
   "mimetype": "text/x-python",
   "name": "python",
   "nbconvert_exporter": "python",
   "pygments_lexer": "ipython3",
   "version": "3.9.0"
  }
 },
 "nbformat": 4,
 "nbformat_minor": 4
}
