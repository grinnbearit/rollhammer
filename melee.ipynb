{
 "cells": [
  {
   "cell_type": "markdown",
   "id": "3d97d02a-7b72-46c9-9bee-21d84135f42f",
   "metadata": {},
   "source": [
    "# Glorious Melee Combat"
   ]
  },
  {
   "cell_type": "code",
   "execution_count": 1,
   "id": "9b8d751a-4d4a-4096-b0a8-12ffa61cb3f8",
   "metadata": {},
   "outputs": [],
   "source": [
    "import numpy as np\n",
    "import pandas as pd\n",
    "import seaborn as sns\n",
    "import scipy.stats as stats\n",
    "import statsmodels.api as sm\n",
    "from fractions import Fraction\n",
    "import matplotlib.pyplot as plt"
   ]
  },
  {
   "cell_type": "code",
   "execution_count": 2,
   "id": "7a892026-1bda-4c32-b54e-659c34a39ba8",
   "metadata": {},
   "outputs": [],
   "source": [
    "sns.set_theme()"
   ]
  },
  {
   "cell_type": "code",
   "execution_count": 3,
   "id": "62586b98-ba49-46f6-93c7-367f060afa26",
   "metadata": {},
   "outputs": [],
   "source": [
    "### Irrelevant really\n",
    "### A small utility function for converting fractions to dice rolls\n",
    "def fraction_to_roll(fraction):\n",
    "    if fraction == 0:\n",
    "        return \"-\"\n",
    "    return {Fraction(n, 6): \"{}+\".format(7-n) for n in range(1, 6)}.get(fraction)"
   ]
  },
  {
   "cell_type": "markdown",
   "id": "e0a124a7-3523-4bdd-bb10-cf497a687993",
   "metadata": {},
   "source": [
    "## Understanding Melee Combat"
   ]
  },
  {
   "cell_type": "markdown",
   "id": "1509db72-ee5b-44f4-8f8f-32579827181c",
   "metadata": {},
   "source": [
    "Tabletop Warhammer has 3 stats relevant to melee combat\n",
    "1. Weapon Skill (WS) - How good you are at hitting or avoiding being hit\n",
    "2. Strength (S) - How hard you hit\n",
    "3. Toughness (T) - How hard you are\n",
    "\n",
    "There are also 2 additional modifiers that come into play\n",
    "1. Save - Usually from armour your unit is wearing\n",
    "2. Ward - Rare magical/intrinsic protection\n",
    "\n",
    "All these stats result in rolls of a D6 combined with the special rule, 1s _always_ fail, 6s _always_ succeed."
   ]
  },
  {
   "cell_type": "markdown",
   "id": "2ac82953-0d3e-42db-8947-b5e836301e3f",
   "metadata": {},
   "source": [
    "### Roll to Hit\n",
    "\n",
    "__How likely are you to hit your opponent?__\n",
    "\n",
    "Weapon Skill comparisons between Attackers and Defenders is not symmetric\n",
    "\n",
    "The Attackers WS is compared to the Defenders WS, \n",
    "- If they're the same, there's a 1/2 chance to hit (4+)\n",
    "- If the Attacker's WS is greater, there's a 2/3 chance to hit (3+)\n",
    "- If the Attacker's WS is greater than twice the Defender's WS, there's a 5/6 chance to hit (2+)\n",
    "\n",
    "On the other hand\n",
    "- If the Defender's WS is greater, there's a 1/2 chance to hit (4+)\n",
    "- If the Defender's WS is greater than twice the Attacker's WS, there's a 1/3 chance to hit (5+)\n",
    "- If the Defender's WS is greater than twice the Attacker's WS + 3, there's a 1/6 chance to hit (6+)"
   ]
  },
  {
   "cell_type": "code",
   "execution_count": 4,
   "id": "567ffb4b-b7ee-490c-b6b8-7642a75ece4d",
   "metadata": {},
   "outputs": [],
   "source": [
    "def roll_to_hit(attackers_ws, defenders_ws):\n",
    "    \n",
    "    if defenders_ws < attackers_ws:\n",
    "        if defenders_ws*2 < attackers_ws:\n",
    "            return Fraction(5, 6)\n",
    "        return Fraction(4, 6)\n",
    "    \n",
    "    if attackers_ws < defenders_ws:\n",
    "        if attackers_ws*2 < defenders_ws:\n",
    "            if attackers_ws*2+3 < defenders_ws:\n",
    "                return Fraction(1, 6)\n",
    "            return Fraction(2, 6)\n",
    "        return Fraction(3, 6)\n",
    "    \n",
    "    return Fraction(3, 6)"
   ]
  },
  {
   "cell_type": "code",
   "execution_count": 5,
   "id": "ed49eb13-ee0f-4a2b-977d-ad35db9ad812",
   "metadata": {},
   "outputs": [
    {
     "name": "stdout",
     "output_type": "stream",
     "text": [
      "100\n"
     ]
    },
    {
     "data": {
      "text/html": [
       "<div>\n",
       "<style scoped>\n",
       "    .dataframe tbody tr th:only-of-type {\n",
       "        vertical-align: middle;\n",
       "    }\n",
       "\n",
       "    .dataframe tbody tr th {\n",
       "        vertical-align: top;\n",
       "    }\n",
       "\n",
       "    .dataframe thead th {\n",
       "        text-align: right;\n",
       "    }\n",
       "</style>\n",
       "<table border=\"1\" class=\"dataframe\">\n",
       "  <thead>\n",
       "    <tr style=\"text-align: right;\">\n",
       "      <th></th>\n",
       "      <th></th>\n",
       "      <th>to_hit</th>\n",
       "    </tr>\n",
       "    <tr>\n",
       "      <th>attacker_ws</th>\n",
       "      <th>defender_ws</th>\n",
       "      <th></th>\n",
       "    </tr>\n",
       "  </thead>\n",
       "  <tbody>\n",
       "    <tr>\n",
       "      <th rowspan=\"3\" valign=\"top\">1</th>\n",
       "      <th>2</th>\n",
       "      <td>1/2</td>\n",
       "    </tr>\n",
       "    <tr>\n",
       "      <th>3</th>\n",
       "      <td>1/3</td>\n",
       "    </tr>\n",
       "    <tr>\n",
       "      <th>6</th>\n",
       "      <td>1/6</td>\n",
       "    </tr>\n",
       "    <tr>\n",
       "      <th rowspan=\"3\" valign=\"top\">3</th>\n",
       "      <th>1</th>\n",
       "      <td>5/6</td>\n",
       "    </tr>\n",
       "    <tr>\n",
       "      <th>2</th>\n",
       "      <td>2/3</td>\n",
       "    </tr>\n",
       "    <tr>\n",
       "      <th>3</th>\n",
       "      <td>1/2</td>\n",
       "    </tr>\n",
       "  </tbody>\n",
       "</table>\n",
       "</div>"
      ],
      "text/plain": [
       "                        to_hit\n",
       "attacker_ws defender_ws       \n",
       "1           2              1/2\n",
       "            3              1/3\n",
       "            6              1/6\n",
       "3           1              5/6\n",
       "            2              2/3\n",
       "            3              1/2"
      ]
     },
     "execution_count": 5,
     "metadata": {},
     "output_type": "execute_result"
    }
   ],
   "source": [
    "to_hit_table = (pd.DataFrame([(a, d, roll_to_hit(a, d)) for a in range(1, 11) for d in range(1, 11)],\n",
    "                             columns=[\"attacker_ws\", \"defender_ws\", \"to_hit\"])\n",
    "                .set_index([\"attacker_ws\", \"defender_ws\"]))\n",
    "\n",
    "print(len(to_hit_table))\n",
    "to_hit_table.loc[[(3, 1), (3, 2), (1, 6), (1, 3), (1, 2), (3, 3)]].sort_index()"
   ]
  },
  {
   "cell_type": "code",
   "execution_count": 6,
   "id": "cc2eb99f-b9ea-4c73-9917-5d424f5cec45",
   "metadata": {},
   "outputs": [
    {
     "data": {
      "image/png": "[encoded data removed]",
      "text/plain": [
       "<Figure size 640x480 with 1 Axes>"
      ]
     },
     "metadata": {},
     "output_type": "display_data"
    }
   ],
   "source": [
    "data = (to_hit_table\n",
    "        .pivot_table(index=\"defender_ws\", columns=\"attacker_ws\", values=\"to_hit\")\n",
    "        .sort_index(ascending=False))\n",
    "\n",
    "annot = (to_hit_table\n",
    "         .assign(label=to_hit_table[\"to_hit\"].apply(fraction_to_roll))\n",
    "         .reset_index()\n",
    "         .pivot(index=\"defender_ws\", columns=\"attacker_ws\", values=\"label\")\n",
    "         .sort_index(ascending=False))\n",
    "\n",
    "f, ax = plt.subplots(1, 1)\n",
    "sns.heatmap(data, annot=annot.values, ax=ax, fmt=\"\", cbar=False)\n",
    "ax.set_title(\"Roll to Hit\")\n",
    "ax.set_xlabel(\"Attacker Weapon Skill\")\n",
    "ax.set_ylabel(\"Defender Weapon Skill\");"
   ]
  },
  {
   "cell_type": "markdown",
   "id": "400a0c8c-b409-45ae-89c8-825988532bd6",
   "metadata": {},
   "source": [
    "### Roll to Wound\n",
    "\n",
    "__If you actually hit, how likely are you to do any damage?__\n",
    "\n",
    "In this case you compare Attacker's S vs Defender's T and the comparison is simpler and symmetric.\n",
    "\n",
    "- If they're the same, there's a 1/2 chance to wound (4+)\n",
    "- If the Attacker's S is 1 higher, there's a 2/3 chance to wound (3+)\n",
    "- If the Attacker's S is even higher, there's a 5/6 chance to wound (2+)\n",
    "\n",
    "Similarly\n",
    "\n",
    "- If the Defender's T is 1 higher, there's a 1/3 chance to wound (5+)\n",
    "- If the Defender's T is even higher, there's a 1/6 chance to wound (6+)"
   ]
  },
  {
   "cell_type": "code",
   "execution_count": 7,
   "id": "904cd910-4ac3-4492-be1f-e7604ba48c91",
   "metadata": {},
   "outputs": [],
   "source": [
    "def roll_to_wound(attackers_s, defenders_t):\n",
    "\n",
    "    if defenders_t < attackers_s:\n",
    "        if (attackers_s - defenders_t) > 1:\n",
    "            return Fraction(5, 6)\n",
    "        return Fraction(4, 6)\n",
    "    \n",
    "    if attackers_s < defenders_t:\n",
    "        if (defenders_t - attackers_s) > 1:\n",
    "            return Fraction(1, 6)\n",
    "        return Fraction(2, 6)\n",
    "    \n",
    "    return Fraction(3, 6)"
   ]
  },
  {
   "cell_type": "code",
   "execution_count": 8,
   "id": "69706347-7e63-44d3-b0d6-c824d8194421",
   "metadata": {},
   "outputs": [
    {
     "name": "stdout",
     "output_type": "stream",
     "text": [
      "100\n"
     ]
    },
    {
     "data": {
      "text/html": [
       "<div>\n",
       "<style scoped>\n",
       "    .dataframe tbody tr th:only-of-type {\n",
       "        vertical-align: middle;\n",
       "    }\n",
       "\n",
       "    .dataframe tbody tr th {\n",
       "        vertical-align: top;\n",
       "    }\n",
       "\n",
       "    .dataframe thead th {\n",
       "        text-align: right;\n",
       "    }\n",
       "</style>\n",
       "<table border=\"1\" class=\"dataframe\">\n",
       "  <thead>\n",
       "    <tr style=\"text-align: right;\">\n",
       "      <th></th>\n",
       "      <th></th>\n",
       "      <th>to_wound</th>\n",
       "    </tr>\n",
       "    <tr>\n",
       "      <th>attacker_s</th>\n",
       "      <th>defender_t</th>\n",
       "      <th></th>\n",
       "    </tr>\n",
       "  </thead>\n",
       "  <tbody>\n",
       "    <tr>\n",
       "      <th rowspan=\"5\" valign=\"top\">3</th>\n",
       "      <th>1</th>\n",
       "      <td>5/6</td>\n",
       "    </tr>\n",
       "    <tr>\n",
       "      <th>2</th>\n",
       "      <td>2/3</td>\n",
       "    </tr>\n",
       "    <tr>\n",
       "      <th>3</th>\n",
       "      <td>1/2</td>\n",
       "    </tr>\n",
       "    <tr>\n",
       "      <th>4</th>\n",
       "      <td>1/3</td>\n",
       "    </tr>\n",
       "    <tr>\n",
       "      <th>5</th>\n",
       "      <td>1/6</td>\n",
       "    </tr>\n",
       "  </tbody>\n",
       "</table>\n",
       "</div>"
      ],
      "text/plain": [
       "                      to_wound\n",
       "attacker_s defender_t         \n",
       "3          1               5/6\n",
       "           2               2/3\n",
       "           3               1/2\n",
       "           4               1/3\n",
       "           5               1/6"
      ]
     },
     "execution_count": 8,
     "metadata": {},
     "output_type": "execute_result"
    }
   ],
   "source": [
    "to_wound_table = (pd.DataFrame([(a, d, roll_to_wound(a, d)) for a in range(1, 11) for d in range(1, 11)],\n",
    "                               columns=[\"attacker_s\", \"defender_t\", \"to_wound\"])\n",
    "                  .set_index([\"attacker_s\", \"defender_t\"]))\n",
    "\n",
    "print(len(to_wound_table))\n",
    "to_wound_table.loc[[(3, 1), (3, 2), (3, 3), (3, 4), (3, 5)]]"
   ]
  },
  {
   "cell_type": "code",
   "execution_count": 9,
   "id": "095ecd84-004c-45fe-b248-bd7c217b9fe6",
   "metadata": {},
   "outputs": [
    {
     "data": {
      "image/png": "[encoded data removed]",
      "text/plain": [
       "<Figure size 640x480 with 1 Axes>"
      ]
     },
     "metadata": {},
     "output_type": "display_data"
    }
   ],
   "source": [
    "data = (to_wound_table\n",
    "        .pivot_table(index=\"defender_t\", columns=\"attacker_s\", values=\"to_wound\")\n",
    "        .sort_index(ascending=False))\n",
    "\n",
    "annot = (to_wound_table\n",
    "         .assign(label=to_wound_table[\"to_wound\"].apply(fraction_to_roll))\n",
    "         .reset_index()\n",
    "         .pivot(index=\"defender_t\", columns=\"attacker_s\", values=\"label\")\n",
    "         .sort_index(ascending=False))\n",
    "\n",
    "f, ax = plt.subplots(1, 1)\n",
    "sns.heatmap(data, annot=annot, ax=ax, fmt=\"\", cbar=False)\n",
    "ax.set_title(\"Roll to Wound\")\n",
    "ax.set_xlabel(\"Attacker Strength\")\n",
    "ax.set_ylabel(\"Defender Toughness\");"
   ]
  },
  {
   "cell_type": "markdown",
   "id": "b17eebac-f105-4610-8d00-94f91a2d11a4",
   "metadata": {},
   "source": [
    "### Roll to Save\n",
    "\n",
    "__Does your armour help?__\n",
    "\n",
    "Save rolls only happen if the unit is wearing any armour and it can be negated by the strength of the attack.\n",
    "\n",
    "All armour values are combined into a single `Save Bonus`, for example\n",
    "- `Light Armour` gives you a `+1`, \n",
    "- Carrying a `Shield` also gives you a `+1`\n",
    "- Both will give you `+2`\n",
    "\n",
    "On the other hand, a strong attack can ignore armour, every point of strength above 3 (most humans) results in a `-1` armour modifier.\n",
    "\n",
    "If you have no (or a negative) armour modifier, you do not make a save roll"
   ]
  },
  {
   "cell_type": "code",
   "execution_count": 10,
   "id": "acd85aa5-6d6e-4c41-9694-4114c698276a",
   "metadata": {},
   "outputs": [],
   "source": [
    "def roll_to_save(attackers_s, defenders_save):\n",
    "\n",
    "    final_save = defenders_save\n",
    "    \n",
    "    if attackers_s > 3:\n",
    "        final_save = defenders_save - (attackers_s - 3)\n",
    "        \n",
    "    if final_save < 1:\n",
    "        return 0\n",
    "\n",
    "    if final_save > 4:\n",
    "        return Fraction(5, 6)\n",
    "    \n",
    "    return Fraction(final_save, 6)"
   ]
  },
  {
   "cell_type": "code",
   "execution_count": 11,
   "id": "be364cbf-168b-4946-aa53-6f6d104ba200",
   "metadata": {},
   "outputs": [
    {
     "name": "stdout",
     "output_type": "stream",
     "text": [
      "130\n"
     ]
    },
    {
     "data": {
      "text/html": [
       "<div>\n",
       "<style scoped>\n",
       "    .dataframe tbody tr th:only-of-type {\n",
       "        vertical-align: middle;\n",
       "    }\n",
       "\n",
       "    .dataframe tbody tr th {\n",
       "        vertical-align: top;\n",
       "    }\n",
       "\n",
       "    .dataframe thead th {\n",
       "        text-align: right;\n",
       "    }\n",
       "</style>\n",
       "<table border=\"1\" class=\"dataframe\">\n",
       "  <thead>\n",
       "    <tr style=\"text-align: right;\">\n",
       "      <th></th>\n",
       "      <th></th>\n",
       "      <th>to_save</th>\n",
       "    </tr>\n",
       "    <tr>\n",
       "      <th>attacker_s</th>\n",
       "      <th>defender_save</th>\n",
       "      <th></th>\n",
       "    </tr>\n",
       "  </thead>\n",
       "  <tbody>\n",
       "    <tr>\n",
       "      <th rowspan=\"3\" valign=\"top\">3</th>\n",
       "      <th>0</th>\n",
       "      <td>0</td>\n",
       "    </tr>\n",
       "    <tr>\n",
       "      <th>1</th>\n",
       "      <td>1/6</td>\n",
       "    </tr>\n",
       "    <tr>\n",
       "      <th>2</th>\n",
       "      <td>1/3</td>\n",
       "    </tr>\n",
       "    <tr>\n",
       "      <th>4</th>\n",
       "      <th>2</th>\n",
       "      <td>1/6</td>\n",
       "    </tr>\n",
       "    <tr>\n",
       "      <th>5</th>\n",
       "      <th>2</th>\n",
       "      <td>0</td>\n",
       "    </tr>\n",
       "  </tbody>\n",
       "</table>\n",
       "</div>"
      ],
      "text/plain": [
       "                         to_save\n",
       "attacker_s defender_save        \n",
       "3          0                   0\n",
       "           1                 1/6\n",
       "           2                 1/3\n",
       "4          2                 1/6\n",
       "5          2                   0"
      ]
     },
     "execution_count": 11,
     "metadata": {},
     "output_type": "execute_result"
    }
   ],
   "source": [
    "to_save_table = (pd.DataFrame([(a, save, roll_to_save(a, save)) for a in range(1, 11) for save in range(0, 13)],\n",
    "                              columns=[\"attacker_s\", \"defender_save\", \"to_save\"])\n",
    "                 .set_index([\"attacker_s\", \"defender_save\"]))\n",
    "\n",
    "print(len(to_save_table))\n",
    "to_save_table.loc[[(3, 0), (3, 1), (3, 2), (4, 2), (5, 2)]]"
   ]
  },
  {
   "cell_type": "code",
   "execution_count": 12,
   "id": "9656e3ca-cafc-480c-ab46-8f40096ba1fd",
   "metadata": {},
   "outputs": [
    {
     "data": {
      "image/png": "[encoded data removed]",
      "text/plain": [
       "<Figure size 640x480 with 2 Axes>"
      ]
     },
     "metadata": {},
     "output_type": "display_data"
    }
   ],
   "source": [
    "data = (to_save_table\n",
    "        .pivot_table(index=\"defender_save\", columns=\"attacker_s\", values=\"to_save\")\n",
    "        .sort_index(ascending=False))\n",
    "\n",
    "annot = (to_save_table\n",
    "         .assign(label=to_save_table[\"to_save\"].apply(fraction_to_roll))\n",
    "         .reset_index()\n",
    "         .pivot(index=\"defender_save\", columns=\"attacker_s\", values=\"label\")\n",
    "         .sort_index(ascending=False))\n",
    "\n",
    "f, ax = plt.subplots(1, 1)\n",
    "sns.heatmap(data, annot=annot, ax=ax, fmt=\"\")\n",
    "ax.set_title(\"Roll to Save\")\n",
    "ax.set_xlabel(\"Attacker Strength\")\n",
    "ax.set_ylabel(\"Defender Save Modifier\");"
   ]
  },
  {
   "cell_type": "markdown",
   "id": "d57233c2-4a68-41f9-af4a-fa3a00b8bdde",
   "metadata": {},
   "source": [
    "### Roll to Ward\n",
    "\n",
    "__Do you have the favour of a friendly wizard?__\n",
    "\n",
    "Some special items, often magical, give you an additional saving roll called a ward roll.\n",
    "\n",
    "A ward save is unaffected by attack strength but can also never be improved above 1/2 chance to save (4+).\n",
    "\n",
    "Breaking the convention so far, ward saves are also not tied to stats but directly written down as rolls, \n",
    "`Amulet (6+)` for example"
   ]
  },
  {
   "cell_type": "code",
   "execution_count": 13,
   "id": "f7799a09-6ebc-4efd-b01a-b38ada7e9faf",
   "metadata": {},
   "outputs": [],
   "source": [
    "# Treating a Ward of 7 as -\n",
    "def roll_to_ward(defenders_ward):\n",
    "    \n",
    "    if defenders_ward < 4:\n",
    "        return Fraction(3, 6)\n",
    "    \n",
    "    return Fraction(7 - defenders_ward, 6)"
   ]
  },
  {
   "cell_type": "code",
   "execution_count": 14,
   "id": "88779641-4ae8-4a09-8a95-cf3a21893835",
   "metadata": {},
   "outputs": [
    {
     "name": "stdout",
     "output_type": "stream",
     "text": [
      "7\n"
     ]
    },
    {
     "data": {
      "text/html": [
       "<div>\n",
       "<style scoped>\n",
       "    .dataframe tbody tr th:only-of-type {\n",
       "        vertical-align: middle;\n",
       "    }\n",
       "\n",
       "    .dataframe tbody tr th {\n",
       "        vertical-align: top;\n",
       "    }\n",
       "\n",
       "    .dataframe thead th {\n",
       "        text-align: right;\n",
       "    }\n",
       "</style>\n",
       "<table border=\"1\" class=\"dataframe\">\n",
       "  <thead>\n",
       "    <tr style=\"text-align: right;\">\n",
       "      <th></th>\n",
       "      <th>to_ward</th>\n",
       "    </tr>\n",
       "    <tr>\n",
       "      <th>ward</th>\n",
       "      <th></th>\n",
       "    </tr>\n",
       "  </thead>\n",
       "  <tbody>\n",
       "    <tr>\n",
       "      <th>3</th>\n",
       "      <td>1/2</td>\n",
       "    </tr>\n",
       "    <tr>\n",
       "      <th>4</th>\n",
       "      <td>1/2</td>\n",
       "    </tr>\n",
       "    <tr>\n",
       "      <th>5</th>\n",
       "      <td>1/3</td>\n",
       "    </tr>\n",
       "    <tr>\n",
       "      <th>6</th>\n",
       "      <td>1/6</td>\n",
       "    </tr>\n",
       "    <tr>\n",
       "      <th>7</th>\n",
       "      <td>0</td>\n",
       "    </tr>\n",
       "  </tbody>\n",
       "</table>\n",
       "</div>"
      ],
      "text/plain": [
       "     to_ward\n",
       "ward        \n",
       "3        1/2\n",
       "4        1/2\n",
       "5        1/3\n",
       "6        1/6\n",
       "7          0"
      ]
     },
     "execution_count": 14,
     "metadata": {},
     "output_type": "execute_result"
    }
   ],
   "source": [
    "to_ward_table = (pd.DataFrame([(w, roll_to_ward(w)) for w in range(1, 8)],\n",
    "                              columns=[\"ward\", \"to_ward\"])\n",
    "                 .set_index(\"ward\"))\n",
    "\n",
    "print(len(to_ward_table))\n",
    "to_ward_table.loc[[3, 4, 5, 6, 7]]"
   ]
  },
  {
   "cell_type": "code",
   "execution_count": 15,
   "id": "dc377a7c-356a-4af7-887f-8e5931b31467",
   "metadata": {},
   "outputs": [
    {
     "data": {
      "image/png": "[encoded data removed]",
      "text/plain": [
       "<Figure size 640x480 with 1 Axes>"
      ]
     },
     "metadata": {},
     "output_type": "display_data"
    }
   ],
   "source": [
    "f, ax = plt.subplots(1, 1)\n",
    "\n",
    "sns.barplot(data=to_ward_table.reset_index(), x=\"ward\", y=\"to_ward\", color=\"C0\")\n",
    "ax.set_ylim(0, 1)\n",
    "ax.set_title(\"Roll to Ward\")\n",
    "ax.set_xlabel(\"Ward\")\n",
    "ax.set_ylabel(\"P(To Ward)\")\n",
    "ax.set_xticklabels(\"{}\".format(w) for w in range(1, 8));"
   ]
  },
  {
   "cell_type": "markdown",
   "id": "570b369c-f3ef-484e-9a41-3e42bb7a9168",
   "metadata": {},
   "source": [
    "### P(Wound)\n",
    "\n",
    "In the end the probability to wound a defender with a single attack\n",
    "\n",
    "`P(to Hit) * P(to Wound) * (1 - P(to Save)) * (1 - P(to Ward))`"
   ]
  },
  {
   "cell_type": "code",
   "execution_count": 16,
   "id": "e497f72f-0a08-4ec8-a63e-9e4e3cebcf52",
   "metadata": {},
   "outputs": [],
   "source": [
    "def p_wound(a_ws, d_ws, a_s, d_t, d_save=0, d_ward=7):\n",
    "    p_hit = roll_to_hit(a_ws, d_ws)\n",
    "    p_wound = roll_to_wound(a_s, d_t)\n",
    "    p_save = roll_to_save(a_s, d_save)\n",
    "    p_ward = roll_to_ward(d_ward)\n",
    "    p = p_hit * p_wound * (1-p_save) * (1-p_ward)\n",
    "    return p"
   ]
  },
  {
   "cell_type": "markdown",
   "id": "68a9532c-2a81-4a85-9d25-9c794c8a0feb",
   "metadata": {},
   "source": [
    "So a simple Empire Spearman attacking one from another State with `WS 3`, `S 3`, `T 3`, no armour and no magical items has a 1/4 chance of wounding his opponent."
   ]
  },
  {
   "cell_type": "code",
   "execution_count": 17,
   "id": "eccca851-9686-4432-9348-43507b6cffa4",
   "metadata": {},
   "outputs": [
    {
     "data": {
      "text/plain": [
       "Fraction(1, 4)"
      ]
     },
     "execution_count": 17,
     "metadata": {},
     "output_type": "execute_result"
    }
   ],
   "source": [
    "p_wound(3, 3, 3, 3)"
   ]
  },
  {
   "cell_type": "markdown",
   "id": "04e6f252-3673-4101-9f15-ab04b1471ab4",
   "metadata": {},
   "source": [
    "### But which stats are most important?\n",
    "\n",
    "Should I care more about Weapon Skill? Strength?\n",
    "\n",
    "What about if I'm defending, do I want to invest in that magical trinket or another piece of armour?"
   ]
  },
  {
   "cell_type": "markdown",
   "id": "2d7b99b2-ec5b-4b70-94f4-36b5159221e2",
   "metadata": {},
   "source": [
    "#### The Linear Model\n",
    "\n",
    "Fitting a model to the predict P(wound) might help with an answer, the underlying model is non-linear with lots of jumps but it might be good enough for an approximation."
   ]
  },
  {
   "cell_type": "code",
   "execution_count": 18,
   "id": "37968782-8630-4d08-b0b9-19f0de2dc110",
   "metadata": {},
   "outputs": [
    {
     "name": "stdout",
     "output_type": "stream",
     "text": [
      "910000\n"
     ]
    },
    {
     "data": {
      "text/html": [
       "<div>\n",
       "<style scoped>\n",
       "    .dataframe tbody tr th:only-of-type {\n",
       "        vertical-align: middle;\n",
       "    }\n",
       "\n",
       "    .dataframe tbody tr th {\n",
       "        vertical-align: top;\n",
       "    }\n",
       "\n",
       "    .dataframe thead th {\n",
       "        text-align: right;\n",
       "    }\n",
       "</style>\n",
       "<table border=\"1\" class=\"dataframe\">\n",
       "  <thead>\n",
       "    <tr style=\"text-align: right;\">\n",
       "      <th></th>\n",
       "      <th></th>\n",
       "      <th></th>\n",
       "      <th></th>\n",
       "      <th></th>\n",
       "      <th></th>\n",
       "      <th>p_wound</th>\n",
       "    </tr>\n",
       "    <tr>\n",
       "      <th>a_ws</th>\n",
       "      <th>d_ws</th>\n",
       "      <th>a_s</th>\n",
       "      <th>d_t</th>\n",
       "      <th>d_save</th>\n",
       "      <th>d_ward</th>\n",
       "      <th></th>\n",
       "    </tr>\n",
       "  </thead>\n",
       "  <tbody>\n",
       "    <tr>\n",
       "      <th rowspan=\"3\" valign=\"top\">1</th>\n",
       "      <th rowspan=\"3\" valign=\"top\">1</th>\n",
       "      <th rowspan=\"3\" valign=\"top\">1</th>\n",
       "      <th rowspan=\"3\" valign=\"top\">1</th>\n",
       "      <th rowspan=\"3\" valign=\"top\">0</th>\n",
       "      <th>1</th>\n",
       "      <td>1/8</td>\n",
       "    </tr>\n",
       "    <tr>\n",
       "      <th>2</th>\n",
       "      <td>1/8</td>\n",
       "    </tr>\n",
       "    <tr>\n",
       "      <th>3</th>\n",
       "      <td>1/8</td>\n",
       "    </tr>\n",
       "  </tbody>\n",
       "</table>\n",
       "</div>"
      ],
      "text/plain": [
       "                                p_wound\n",
       "a_ws d_ws a_s d_t d_save d_ward        \n",
       "1    1    1   1   0      1          1/8\n",
       "                         2          1/8\n",
       "                         3          1/8"
      ]
     },
     "execution_count": 18,
     "metadata": {},
     "output_type": "execute_result"
    }
   ],
   "source": [
    "p_wound_table = (pd.DataFrame([(a_ws, d_ws, a_s, d_t, d_save, d_ward, p_wound(a_ws, d_ws, a_s, d_t, d_save, d_ward))\n",
    "                               for a_ws in range(1, 11)\n",
    "                               for d_ws in range(1, 11)\n",
    "                               for a_s in range(1, 11)\n",
    "                               for d_t in range(1, 11)\n",
    "                               for d_save in range(0, 13)\n",
    "                               for d_ward in range(1, 8)],\n",
    "                              columns=[\"a_ws\", \"d_ws\", \"a_s\", \"d_t\", \"d_save\", \"d_ward\", \"p_wound\"])\n",
    "                 .set_index([\"a_ws\", \"d_ws\", \"a_s\", \"d_t\", \"d_save\", \"d_ward\"]))\n",
    "\n",
    "print(len(p_wound_table))\n",
    "p_wound_table[:3]"
   ]
  },
  {
   "cell_type": "code",
   "execution_count": 19,
   "id": "fa552a9f-83e7-4eb3-9c8b-bcfee7ebd241",
   "metadata": {},
   "outputs": [],
   "source": [
    "X = (p_wound_table.reset_index()[[\"a_ws\", \"d_ws\", \"a_s\", \"d_t\", \"d_save\", \"d_ward\"]])\n",
    "X = sm.add_constant(X)\n",
    "y = p_wound_table.reset_index()[\"p_wound\"].astype(float)"
   ]
  },
  {
   "cell_type": "code",
   "execution_count": 20,
   "id": "b8cb815f-e385-41b6-b08b-ab99a94dbbe9",
   "metadata": {},
   "outputs": [
    {
     "name": "stdout",
     "output_type": "stream",
     "text": [
      "                            OLS Regression Results                            \n",
      "==============================================================================\n",
      "Dep. Variable:                p_wound   R-squared:                       0.649\n",
      "Model:                            OLS   Adj. R-squared:                  0.649\n",
      "Method:                 Least Squares   F-statistic:                 2.805e+05\n",
      "Date:                Thu, 01 Dec 2022   Prob (F-statistic):               0.00\n",
      "Time:                        13:31:25   Log-Likelihood:             1.0665e+06\n",
      "No. Observations:              910000   AIC:                        -2.133e+06\n",
      "Df Residuals:                  909993   BIC:                        -2.133e+06\n",
      "Df Model:                           6                                         \n",
      "Covariance Type:            nonrobust                                         \n",
      "==============================================================================\n",
      "                 coef    std err          t      P>|t|      [0.025      0.975]\n",
      "------------------------------------------------------------------------------\n",
      "const          0.0771      0.000    208.220      0.000       0.076       0.078\n",
      "a_ws           0.0088   2.74e-05    323.019      0.000       0.009       0.009\n",
      "d_ws          -0.0085   2.74e-05   -311.685      0.000      -0.009      -0.008\n",
      "a_s            0.0229   2.74e-05    835.494      0.000       0.023       0.023\n",
      "d_t           -0.0123   2.74e-05   -451.331      0.000      -0.012      -0.012\n",
      "d_save        -0.0142    2.1e-05   -674.062      0.000      -0.014      -0.014\n",
      "d_ward         0.0139   3.93e-05    354.481      0.000       0.014       0.014\n",
      "==============================================================================\n",
      "Omnibus:                   240793.733   Durbin-Watson:                   0.344\n",
      "Prob(Omnibus):                  0.000   Jarque-Bera (JB):           757385.144\n",
      "Skew:                           1.356   Prob(JB):                         0.00\n",
      "Kurtosis:                       6.552   Cond. No.                         64.0\n",
      "==============================================================================\n",
      "\n",
      "Notes:\n",
      "[1] Standard Errors assume that the covariance matrix of the errors is correctly specified.\n"
     ]
    }
   ],
   "source": [
    "model = sm.OLS(y, X)\n",
    "results = model.fit()\n",
    "print(results.summary())"
   ]
  },
  {
   "cell_type": "markdown",
   "id": "6495ba25-8672-4d8c-9206-52eec9546114",
   "metadata": {},
   "source": [
    "##### Conclusions\n",
    "\n",
    "It looks pretty good\n",
    "- Attacker's WS is more important than Defender's WS, since it's asymmetric\n",
    "- Attacker's S is more important than Defender's T, since it breaks through armour\n",
    "- `d_ward` has a positive effect on P(wound) while `d_save` is negative"
   ]
  },
  {
   "cell_type": "markdown",
   "id": "7faed5d1-5f45-4ed0-acbe-3739e98574f4",
   "metadata": {},
   "source": [
    "### Simulating the World\n",
    "\n",
    "But I have the underlying model, I don't need to approximate it linearly. For every combination of stats I have the exact probability of a wound.\n",
    "\n",
    "The linear model is calculating the average change in damage for a 1 unit change in the underlying stat, I can calculate that precisely and see how much it diverges from the linear model's predictions."
   ]
  },
  {
   "cell_type": "code",
   "execution_count": 21,
   "id": "6f894fce-430f-41f9-88b7-ca568c57367b",
   "metadata": {},
   "outputs": [
    {
     "name": "stdout",
     "output_type": "stream",
     "text": [
      "0.009236111111111112\n"
     ]
    }
   ],
   "source": [
    "# a_ws\n",
    "a_ws_increments = []\n",
    "for a_ws in range(2, 11):    \n",
    "    diff = p_wound_table.loc[pd.IndexSlice[a_ws], \"p_wound\"] -\\\n",
    "           p_wound_table.loc[pd.IndexSlice[a_ws-1], \"p_wound\"]\n",
    "    a_ws_increments.append(diff.values)\n",
    "\n",
    "a_ws_increments = np.concatenate(a_ws_increments)\n",
    "print(float(a_ws_increments.mean()))"
   ]
  },
  {
   "cell_type": "code",
   "execution_count": 22,
   "id": "58a424fb-b5ae-4452-b62f-b0cacca69337",
   "metadata": {},
   "outputs": [
    {
     "name": "stdout",
     "output_type": "stream",
     "text": [
      "-0.008525641025641026\n"
     ]
    }
   ],
   "source": [
    "# d_ws\n",
    "d_ws_increments = []\n",
    "for d_ws in range(2, 11):    \n",
    "    diff = p_wound_table.loc[pd.IndexSlice[:, d_ws], [\"p_wound\"]].reset_index(level=1) -\\\n",
    "           p_wound_table.loc[pd.IndexSlice[:, d_ws-1], [\"p_wound\"]].reset_index(level=1)\n",
    "    d_ws_increments.append(diff[\"p_wound\"])\n",
    "\n",
    "d_ws_increments = np.concatenate(d_ws_increments)\n",
    "print(float(d_ws_increments.mean()))"
   ]
  },
  {
   "cell_type": "code",
   "execution_count": 23,
   "id": "b7fde68c-bbba-43b0-b56b-38d2887619de",
   "metadata": {},
   "outputs": [
    {
     "name": "stdout",
     "output_type": "stream",
     "text": [
      "0.022196581196581196\n"
     ]
    }
   ],
   "source": [
    "# a_s\n",
    "a_s_increments = []\n",
    "for a_s in range(2, 11):\n",
    "    diff = p_wound_table.loc[pd.IndexSlice[:, :, a_s], [\"p_wound\"]].reset_index(level=2) -\\\n",
    "           p_wound_table.loc[pd.IndexSlice[:, :, a_s-1], [\"p_wound\"]].reset_index(level=2)\n",
    "    a_s_increments.append(diff[\"p_wound\"])\n",
    "\n",
    "a_s_increments = np.concatenate(a_s_increments)\n",
    "print(float(a_s_increments.mean()))"
   ]
  },
  {
   "cell_type": "code",
   "execution_count": 24,
   "id": "ac6e6694-573b-4fad-aa85-bcf90a2bc9ad",
   "metadata": {},
   "outputs": [
    {
     "name": "stdout",
     "output_type": "stream",
     "text": [
      "-0.01206837606837607\n"
     ]
    }
   ],
   "source": [
    "# d_t\n",
    "d_t_increments = []\n",
    "for d_t in range(2, 11):\n",
    "    diff = p_wound_table.loc[pd.IndexSlice[:, :, :, d_t], [\"p_wound\"]].reset_index(level=3) -\\\n",
    "           p_wound_table.loc[pd.IndexSlice[:, :, :, d_t-1], [\"p_wound\"]].reset_index(level=3)\n",
    "    d_t_increments.append(diff[\"p_wound\"])\n",
    "\n",
    "d_t_increments = np.concatenate(d_t_increments)\n",
    "print(float(d_t_increments.mean()))"
   ]
  },
  {
   "cell_type": "code",
   "execution_count": 25,
   "id": "7cdd4411-c908-4205-a114-fa7c7b62e93f",
   "metadata": {},
   "outputs": [
    {
     "name": "stdout",
     "output_type": "stream",
     "text": [
      "-0.0125\n"
     ]
    }
   ],
   "source": [
    "# d_save\n",
    "d_save_increments = []\n",
    "for d_save in range(1, 13):\n",
    "    diff = p_wound_table.loc[pd.IndexSlice[:, :, :, :, d_save], [\"p_wound\"]].reset_index(level=4) -\\\n",
    "           p_wound_table.loc[pd.IndexSlice[:, :, :, :, d_save-1], [\"p_wound\"]].reset_index(level=4)\n",
    "    d_save_increments.append(diff[\"p_wound\"])\n",
    "\n",
    "d_save_increments = np.concatenate(d_save_increments)\n",
    "print(float(d_save_increments.mean()))"
   ]
  },
  {
   "cell_type": "code",
   "execution_count": 26,
   "id": "542e3193-9321-4049-b3c5-0ee4bac4dc41",
   "metadata": {},
   "outputs": [
    {
     "name": "stdout",
     "output_type": "stream",
     "text": [
      "0.013925213675213675\n"
     ]
    }
   ],
   "source": [
    "# d_ward\n",
    "d_ward_increments = []\n",
    "for d_ward in range(2, 8):\n",
    "    diff = p_wound_table.loc[pd.IndexSlice[:, :, :, :, :, d_ward], [\"p_wound\"]].reset_index(level=5) -\\\n",
    "           p_wound_table.loc[pd.IndexSlice[:, :, :, :, :, d_ward-1], [\"p_wound\"]].reset_index(level=5)\n",
    "    d_ward_increments.append(diff[\"p_wound\"])\n",
    "\n",
    "d_ward_increments = np.concatenate(d_ward_increments)\n",
    "print(float(d_ward_increments.mean()))"
   ]
  },
  {
   "cell_type": "code",
   "execution_count": 27,
   "id": "12c8a1a0-a807-4ea3-9996-a05b72b3a8f1",
   "metadata": {},
   "outputs": [
    {
     "data": {
      "text/html": [
       "<div>\n",
       "<style scoped>\n",
       "    .dataframe tbody tr th:only-of-type {\n",
       "        vertical-align: middle;\n",
       "    }\n",
       "\n",
       "    .dataframe tbody tr th {\n",
       "        vertical-align: top;\n",
       "    }\n",
       "\n",
       "    .dataframe thead th {\n",
       "        text-align: right;\n",
       "    }\n",
       "</style>\n",
       "<table border=\"1\" class=\"dataframe\">\n",
       "  <thead>\n",
       "    <tr style=\"text-align: right;\">\n",
       "      <th></th>\n",
       "      <th>OLS</th>\n",
       "      <th>[0.025</th>\n",
       "      <th>0.975]</th>\n",
       "      <th>ideal</th>\n",
       "      <th>is_within_bounds</th>\n",
       "      <th>abs_error</th>\n",
       "      <th>rel_error_perc</th>\n",
       "    </tr>\n",
       "  </thead>\n",
       "  <tbody>\n",
       "    <tr>\n",
       "      <th>const</th>\n",
       "      <td>0.077145</td>\n",
       "      <td>0.076419</td>\n",
       "      <td>0.077871</td>\n",
       "      <td>NaN</td>\n",
       "      <td>False</td>\n",
       "      <td>NaN</td>\n",
       "      <td>NaN</td>\n",
       "    </tr>\n",
       "    <tr>\n",
       "      <th>a_ws</th>\n",
       "      <td>0.008836</td>\n",
       "      <td>0.008782</td>\n",
       "      <td>0.008889</td>\n",
       "      <td>0.009236</td>\n",
       "      <td>False</td>\n",
       "      <td>-4.004468e-04</td>\n",
       "      <td>4.335664e+00</td>\n",
       "    </tr>\n",
       "    <tr>\n",
       "      <th>d_ws</th>\n",
       "      <td>-0.008526</td>\n",
       "      <td>-0.008579</td>\n",
       "      <td>-0.008472</td>\n",
       "      <td>-0.008526</td>\n",
       "      <td>True</td>\n",
       "      <td>9.246076e-15</td>\n",
       "      <td>1.084502e-10</td>\n",
       "    </tr>\n",
       "    <tr>\n",
       "      <th>a_s</th>\n",
       "      <td>0.022854</td>\n",
       "      <td>0.022800</td>\n",
       "      <td>0.022907</td>\n",
       "      <td>0.022197</td>\n",
       "      <td>False</td>\n",
       "      <td>6.570319e-04</td>\n",
       "      <td>-2.960059e+00</td>\n",
       "    </tr>\n",
       "    <tr>\n",
       "      <th>d_t</th>\n",
       "      <td>-0.012345</td>\n",
       "      <td>-0.012399</td>\n",
       "      <td>-0.012292</td>\n",
       "      <td>-0.012068</td>\n",
       "      <td>False</td>\n",
       "      <td>-2.770785e-04</td>\n",
       "      <td>-2.295905e+00</td>\n",
       "    </tr>\n",
       "    <tr>\n",
       "      <th>d_save</th>\n",
       "      <td>-0.014154</td>\n",
       "      <td>-0.014195</td>\n",
       "      <td>-0.014113</td>\n",
       "      <td>-0.012500</td>\n",
       "      <td>False</td>\n",
       "      <td>-1.653846e-03</td>\n",
       "      <td>-1.323077e+01</td>\n",
       "    </tr>\n",
       "    <tr>\n",
       "      <th>d_ward</th>\n",
       "      <td>0.013925</td>\n",
       "      <td>0.013848</td>\n",
       "      <td>0.014002</td>\n",
       "      <td>0.013925</td>\n",
       "      <td>True</td>\n",
       "      <td>-1.314920e-15</td>\n",
       "      <td>9.442730e-12</td>\n",
       "    </tr>\n",
       "  </tbody>\n",
       "</table>\n",
       "</div>"
      ],
      "text/plain": [
       "             OLS    [0.025    0.975]     ideal  is_within_bounds  \\\n",
       "const   0.077145  0.076419  0.077871       NaN             False   \n",
       "a_ws    0.008836  0.008782  0.008889  0.009236             False   \n",
       "d_ws   -0.008526 -0.008579 -0.008472 -0.008526              True   \n",
       "a_s     0.022854  0.022800  0.022907  0.022197             False   \n",
       "d_t    -0.012345 -0.012399 -0.012292 -0.012068             False   \n",
       "d_save -0.014154 -0.014195 -0.014113 -0.012500             False   \n",
       "d_ward  0.013925  0.013848  0.014002  0.013925              True   \n",
       "\n",
       "           abs_error  rel_error_perc  \n",
       "const            NaN             NaN  \n",
       "a_ws   -4.004468e-04    4.335664e+00  \n",
       "d_ws    9.246076e-15    1.084502e-10  \n",
       "a_s     6.570319e-04   -2.960059e+00  \n",
       "d_t    -2.770785e-04   -2.295905e+00  \n",
       "d_save -1.653846e-03   -1.323077e+01  \n",
       "d_ward -1.314920e-15    9.442730e-12  "
      ]
     },
     "execution_count": 27,
     "metadata": {},
     "output_type": "execute_result"
    }
   ],
   "source": [
    "(pd.DataFrame(results.params, columns=[\"OLS\"])\n",
    " .join(results.conf_int().rename(columns={0: \"[0.025\", 1: \"0.975]\"}))\n",
    " .assign(ideal=[np.nan, a_ws_increments.mean(), d_ws_increments.mean(), a_s_increments.mean(),\n",
    "                d_t_increments.mean(), d_save_increments.mean(), d_ward_increments.mean()])\n",
    " .assign(ideal=lambda df: df[\"ideal\"].astype(float))\n",
    " .assign(is_within_bounds=lambda df: ((df[\"ideal\"] < df[\"0.975]\"]) &\\\n",
    "                                      (df[\"[0.025\"] < df[\"ideal\"])) |\\\n",
    "                                     ((df[\"0.975]\"] < df[\"ideal\"]) &\\\n",
    "                                      (df[\"ideal\"] < df[\"[0.025\"])))\n",
    " .assign(abs_error=lambda df: df[\"OLS\"] - df[\"ideal\"])\n",
    " .assign(rel_error_perc=lambda df: (df[\"ideal\"] - df[\"OLS\"])/df[\"ideal\"]*100))"
   ]
  },
  {
   "cell_type": "markdown",
   "id": "159af76a-d382-4e11-aa95-44fb8bb4bd17",
   "metadata": {},
   "source": [
    "##### Conclusions\n",
    "\n",
    "In almost all cases, the real mean falls outside the bounds of the predicted mean but the absolute errors are quite small so I still think it's a pretty good model fit."
   ]
  }
 ],
 "metadata": {
  "kernelspec": {
   "display_name": "Python 3 (ipykernel)",
   "language": "python",
   "name": "python3"
  },
  "language_info": {
   "codemirror_mode": {
    "name": "ipython",
    "version": 3
   },
   "file_extension": ".py",
   "mimetype": "text/x-python",
   "name": "python",
   "nbconvert_exporter": "python",
   "pygments_lexer": "ipython3",
   "version": "3.10.9"
  }
 },
 "nbformat": 4,
 "nbformat_minor": 5
}
