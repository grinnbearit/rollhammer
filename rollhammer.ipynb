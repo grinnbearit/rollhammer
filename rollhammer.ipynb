{
 "cells": [
  {
   "cell_type": "markdown",
   "metadata": {},
   "source": [
    "# Rollhammer"
   ]
  },
  {
   "cell_type": "markdown",
   "metadata": {},
   "source": [
    "Is there a way to short circuit the Hit, Save, Wound sequence in Age of Sigmar? \n",
    "\n",
    "Here I've replaced the iterated roll with a single roll of several n-sided dice.\n",
    "\n",
    "I've added an additional constraint that all the dice for the same (hit, save, wound) triple are of the same kind, mainly for aesthetics and simplicity."
   ]
  },
  {
   "cell_type": "code",
   "execution_count": 1,
   "metadata": {},
   "outputs": [],
   "source": [
    "import math\n",
    "import bisect\n",
    "import pandas as pd\n",
    "from fractions import Fraction"
   ]
  },
  {
   "cell_type": "code",
   "execution_count": 2,
   "metadata": {},
   "outputs": [],
   "source": [
    "def calc_p_wounds(to_hit, to_save, to_wound, attacks, wounds):\n",
    "    \"\"\"\n",
    "    returns the probability of at least `wounds` made with `attacks`\n",
    "    num attacks\n",
    "    \"\"\"\n",
    "    p_wound = Fraction(7 - to_hit, 6) *\\\n",
    "              Fraction(7 - to_save, 6) *\\\n",
    "              Fraction(7 - to_wound, 6)\n",
    "    p_miss = 1 - p_wound\n",
    "    \n",
    "    p_wounds = 0\n",
    "    for exact_wounds in range(wounds, attacks+1):\n",
    "        exact_misses = attacks - exact_wounds\n",
    "        p_wounds += math.comb(attacks, exact_wounds)*\\\n",
    "                    (p_wound**exact_wounds)*\\\n",
    "                    (p_miss**exact_misses)\n",
    "    return p_wounds"
   ]
  },
  {
   "cell_type": "markdown",
   "metadata": {},
   "source": [
    "Achieving at least 1 wound from 3 attacks with a (3, 4, 5) (hit, save, wound) has a probability of ~29.77% (217/729)"
   ]
  },
  {
   "cell_type": "code",
   "execution_count": 3,
   "metadata": {},
   "outputs": [
    {
     "data": {
      "text/plain": [
       "Fraction(217, 729)"
      ]
     },
     "execution_count": 3,
     "metadata": {},
     "output_type": "execute_result"
    }
   ],
   "source": [
    "calc_p_wounds(3, 4, 5, 3, 1)"
   ]
  },
  {
   "cell_type": "code",
   "execution_count": 4,
   "metadata": {},
   "outputs": [],
   "source": [
    "def calc_p_successes(dice, sides, successes, floor):\n",
    "    \"\"\"\n",
    "    returns the probability of at least `successes` to have at least `floor`\n",
    "    given `dice` dice with `sides` sides\n",
    "    \"\"\"\n",
    "    p_success = Fraction(sides - floor + 1, sides)\n",
    "    p_fail = 1 - p_success\n",
    "\n",
    "    p_successes = 0\n",
    "    for exact_success in range(successes, dice+1):\n",
    "        exact_fail = dice - exact_success\n",
    "        p_successes += math.comb(dice, exact_success)*\\\n",
    "                       (p_success**exact_success)*\\\n",
    "                       (p_fail**exact_fail)\n",
    "    return p_successes"
   ]
  },
  {
   "cell_type": "markdown",
   "metadata": {},
   "source": [
    "The probability of seeing at least 2 15+s when rolling 5d20 is ~47.18% (23,589/50,000)"
   ]
  },
  {
   "cell_type": "code",
   "execution_count": 5,
   "metadata": {},
   "outputs": [
    {
     "data": {
      "text/plain": [
       "Fraction(23589, 50000)"
      ]
     },
     "execution_count": 5,
     "metadata": {},
     "output_type": "execute_result"
    }
   ],
   "source": [
    "calc_p_successes(5, 20, 2, 15)"
   ]
  },
  {
   "cell_type": "markdown",
   "metadata": {},
   "source": [
    "Precomputing all possible roll probabilities (up to 20 dice) can be increased for greater accuracy\n",
    "\n",
    "I've added all the types of dice found in Tabletop Simulator"
   ]
  },
  {
   "cell_type": "code",
   "execution_count": 6,
   "metadata": {},
   "outputs": [
    {
     "name": "stdout",
     "output_type": "stream",
     "text": [
      "11452\n"
     ]
    },
    {
     "data": {
      "text/html": [
       "<div>\n",
       "<style scoped>\n",
       "    .dataframe tbody tr th:only-of-type {\n",
       "        vertical-align: middle;\n",
       "    }\n",
       "\n",
       "    .dataframe tbody tr th {\n",
       "        vertical-align: top;\n",
       "    }\n",
       "\n",
       "    .dataframe thead th {\n",
       "        text-align: right;\n",
       "    }\n",
       "</style>\n",
       "<table border=\"1\" class=\"dataframe\">\n",
       "  <thead>\n",
       "    <tr style=\"text-align: right;\">\n",
       "      <th></th>\n",
       "      <th></th>\n",
       "      <th></th>\n",
       "      <th>successes</th>\n",
       "      <th>floor</th>\n",
       "    </tr>\n",
       "    <tr>\n",
       "      <th>dice</th>\n",
       "      <th>sides</th>\n",
       "      <th>p_successes</th>\n",
       "      <th></th>\n",
       "      <th></th>\n",
       "    </tr>\n",
       "  </thead>\n",
       "  <tbody>\n",
       "    <tr>\n",
       "      <th rowspan=\"3\" valign=\"top\">1</th>\n",
       "      <th rowspan=\"3\" valign=\"top\">4</th>\n",
       "      <th>1/4</th>\n",
       "      <td>1</td>\n",
       "      <td>4</td>\n",
       "    </tr>\n",
       "    <tr>\n",
       "      <th>1/2</th>\n",
       "      <td>1</td>\n",
       "      <td>3</td>\n",
       "    </tr>\n",
       "    <tr>\n",
       "      <th>3/4</th>\n",
       "      <td>1</td>\n",
       "      <td>2</td>\n",
       "    </tr>\n",
       "  </tbody>\n",
       "</table>\n",
       "</div>"
      ],
      "text/plain": [
       "                        successes  floor\n",
       "dice sides p_successes                  \n",
       "1    4     1/4                  1      4\n",
       "           1/2                  1      3\n",
       "           3/4                  1      2"
      ]
     },
     "execution_count": 6,
     "metadata": {},
     "output_type": "execute_result"
    }
   ],
   "source": [
    "DICE_DF = (pd.DataFrame([(dice, sides, successes, floor,\n",
    "                          calc_p_successes(dice, sides, successes, floor))\n",
    "                         for dice in range(1, 21)\n",
    "                         for sides in [4, 6, 8, 10, 12, 20]\n",
    "                         for successes in range(1, dice+1)\n",
    "                         for floor in range(1, sides+1)],\n",
    "                        columns=[\"dice\", \"sides\", \"successes\", \"floor\", \"p_successes\"])\n",
    "           .sort_values([\"dice\", \"sides\", \"p_successes\", \"floor\", \"successes\"])\n",
    "           .groupby([\"dice\", \"sides\", \"p_successes\"])\n",
    "           .first())\n",
    "print(len(DICE_DF))\n",
    "DICE_DF[:3]"
   ]
  },
  {
   "cell_type": "code",
   "execution_count": 7,
   "metadata": {},
   "outputs": [],
   "source": [
    "def nearest_roll(dice_df, dice, sides, to_hit, to_save, to_wound, attacks, wounds):\n",
    "    \"\"\"\n",
    "    returns the nearest (successes, floor, p_successes, p_wounds, squared_error) \n",
    "    for a given combination of attacks and wounds\n",
    "    \"\"\"\n",
    "    p_wounds = calc_p_wounds(to_hit, to_save, to_wound, attacks, wounds)\n",
    "    min_loc = dice_df.loc[dice, sides].index.get_loc(p_wounds, method=\"nearest\")\n",
    "    min_row = dice_df.loc[dice, sides].iloc[min_loc]\n",
    "    se = (p_wounds - min_row.name)**2\n",
    "    return (min_row.successes, min_row.floor, min_row.name, p_wounds, se)"
   ]
  },
  {
   "cell_type": "markdown",
   "metadata": {},
   "source": [
    "The probability of getting at least 1 wound with 3 attacks with (3, 4, 5) is 217/729 (29.77%)\n",
    "\n",
    "The same as `calc_p_wounds(3, 4, 5, 3, 1)`\n",
    "\n",
    "The nearest probability roll given 5d20 is at least 3, 13+ which is 992/3125 (31.74%)\n",
    "\n",
    "The last element in the tuple is the squared error, (p_successes-p_wounds)^2"
   ]
  },
  {
   "cell_type": "code",
   "execution_count": 8,
   "metadata": {},
   "outputs": [
    {
     "data": {
      "text/plain": [
       "(3,\n",
       " 13,\n",
       " Fraction(992, 3125),\n",
       " Fraction(217, 729),\n",
       " Fraction(2028871849, 5189853515625))"
      ]
     },
     "execution_count": 8,
     "metadata": {},
     "output_type": "execute_result"
    }
   ],
   "source": [
    "nearest_roll(DICE_DF, 5, 20, 3, 4, 5, 3, 1)"
   ]
  },
  {
   "cell_type": "code",
   "execution_count": 9,
   "metadata": {},
   "outputs": [],
   "source": [
    "def gen_roll_df(DICE_DF, dice, sides, to_hit, to_save, to_wound, attacks):\n",
    "    \"\"\"\n",
    "    returns a dataframe with (wounds, p_successes, p_wounds, squared_error) for\n",
    "    every num_wounds possible given attacks\n",
    "    \"\"\"\n",
    "    acc = []\n",
    "    possible_wounds = range(attacks, 0, -1)\n",
    "    for wounds in possible_wounds:\n",
    "        acc.append(nearest_roll(DICE_DF, dice, sides, \n",
    "                                to_hit, to_save, to_wound, \n",
    "                                attacks, wounds))\n",
    "    return (pd.DataFrame(acc, columns=[\"successes\", \"floor\", \"p_successes\", \"p_wounds\", \"squared_error\"])\n",
    "            .assign(wounds=possible_wounds))"
   ]
  },
  {
   "cell_type": "markdown",
   "metadata": {},
   "source": [
    "Calculates the nearest roll for all possible wounds"
   ]
  },
  {
   "cell_type": "code",
   "execution_count": 10,
   "metadata": {},
   "outputs": [
    {
     "data": {
      "text/html": [
       "<div>\n",
       "<style scoped>\n",
       "    .dataframe tbody tr th:only-of-type {\n",
       "        vertical-align: middle;\n",
       "    }\n",
       "\n",
       "    .dataframe tbody tr th {\n",
       "        vertical-align: top;\n",
       "    }\n",
       "\n",
       "    .dataframe thead th {\n",
       "        text-align: right;\n",
       "    }\n",
       "</style>\n",
       "<table border=\"1\" class=\"dataframe\">\n",
       "  <thead>\n",
       "    <tr style=\"text-align: right;\">\n",
       "      <th></th>\n",
       "      <th>successes</th>\n",
       "      <th>floor</th>\n",
       "      <th>p_successes</th>\n",
       "      <th>p_wounds</th>\n",
       "      <th>squared_error</th>\n",
       "      <th>wounds</th>\n",
       "    </tr>\n",
       "  </thead>\n",
       "  <tbody>\n",
       "    <tr>\n",
       "      <th>0</th>\n",
       "      <td>3</td>\n",
       "      <td>20</td>\n",
       "      <td>1853/1600000</td>\n",
       "      <td>1/729</td>\n",
       "      <td>62082200569/1360488960000000000</td>\n",
       "      <td>3</td>\n",
       "    </tr>\n",
       "    <tr>\n",
       "      <th>1</th>\n",
       "      <td>5</td>\n",
       "      <td>11</td>\n",
       "      <td>1/32</td>\n",
       "      <td>25/729</td>\n",
       "      <td>5041/544195584</td>\n",
       "      <td>2</td>\n",
       "    </tr>\n",
       "    <tr>\n",
       "      <th>2</th>\n",
       "      <td>3</td>\n",
       "      <td>13</td>\n",
       "      <td>992/3125</td>\n",
       "      <td>217/729</td>\n",
       "      <td>2028871849/5189853515625</td>\n",
       "      <td>1</td>\n",
       "    </tr>\n",
       "  </tbody>\n",
       "</table>\n",
       "</div>"
      ],
      "text/plain": [
       "   successes  floor   p_successes p_wounds                    squared_error  \\\n",
       "0          3     20  1853/1600000    1/729  62082200569/1360488960000000000   \n",
       "1          5     11          1/32   25/729                   5041/544195584   \n",
       "2          3     13      992/3125  217/729         2028871849/5189853515625   \n",
       "\n",
       "   wounds  \n",
       "0       3  \n",
       "1       2  \n",
       "2       1  "
      ]
     },
     "execution_count": 10,
     "metadata": {},
     "output_type": "execute_result"
    }
   ],
   "source": [
    "gen_roll_df(DICE_DF, 5, 20, 3, 4, 5, 3)"
   ]
  },
  {
   "cell_type": "code",
   "execution_count": 11,
   "metadata": {},
   "outputs": [],
   "source": [
    "def nearest_dice(dice_df, to_hit, to_save, to_wound, attacks):\n",
    "    \"\"\"\n",
    "    returns (mean_squared_error, dice, sides) for the lowest\n",
    "    mean_squared_error for a given combination of attacks and wounds\n",
    "    and the values in dice_df\n",
    "    \"\"\"\n",
    "    acc = []\n",
    "    for dice in dice_df.index.levels[0]:\n",
    "        for sides in dice_df.index.levels[1]:\n",
    "            mse = gen_roll_df(DICE_DF, dice, sides, to_hit, to_save, to_wound, attacks)[\"squared_error\"].mean()\n",
    "            acc.append((mse, dice, sides))\n",
    "    return min(acc)"
   ]
  },
  {
   "cell_type": "markdown",
   "metadata": {},
   "source": [
    "Finds the dice, side combination with the lowest mean squared error across all wounds\n",
    "\n",
    "In this case that's 19d20s"
   ]
  },
  {
   "cell_type": "code",
   "execution_count": 12,
   "metadata": {},
   "outputs": [
    {
     "data": {
      "text/plain": [
       "(2.8150516761149614e-07, 19, 20)"
      ]
     },
     "execution_count": 12,
     "metadata": {},
     "output_type": "execute_result"
    }
   ],
   "source": [
    "nearest_dice(DICE_DF, 3, 4, 5, 3)"
   ]
  },
  {
   "cell_type": "markdown",
   "metadata": {},
   "source": [
    "### Putting it all Together"
   ]
  },
  {
   "cell_type": "code",
   "execution_count": 13,
   "metadata": {},
   "outputs": [],
   "source": [
    "def gen_rollhammer(dice_df, to_hit, to_save, to_wound, attacks):\n",
    "    \"\"\"\n",
    "    returns a table for the corresponding single roll to replace the iterated roll\n",
    "    \"\"\"\n",
    "    (mse, dice, sides) = nearest_dice(dice_df, to_hit, to_save, to_wound, attacks)\n",
    "    df = (gen_roll_df(dice_df, dice, sides, to_hit, to_save, to_wound, attacks)\n",
    "          .assign(dice=dice, sides=sides)\n",
    "          .assign(p_successes_perc=lambda df: (df[\"p_successes\"].astype(float)*100).round(4))\n",
    "          .assign(p_wounds_perc=lambda df: (df[\"p_wounds\"].astype(float)*100).round(4))\n",
    "          .assign(error_perc=lambda df: ((df[\"p_successes\"]-df[\"p_wounds\"])/df[\"p_wounds\"]*100).astype(float).round(4))\n",
    "          [[\"dice\", \"sides\", \"wounds\", \"successes\", \"floor\", \"p_wounds_perc\", \"p_successes_perc\", \"error_perc\"]])\n",
    "    return df"
   ]
  },
  {
   "cell_type": "markdown",
   "metadata": {},
   "source": [
    "When making 3 attacks with a (3, 4, 5) (hit, save, wound) roll 19d20s\n",
    "\n",
    "* If you see at least 17, 10+ that's 3 wounds\n",
    "* If you see at least 13, 12+ that's 2 wounds\n",
    "* If you see at least 14, 8+ that's 1 wound\n",
    "\n",
    "Otherwise, you swing and you miss"
   ]
  },
  {
   "cell_type": "code",
   "execution_count": 14,
   "metadata": {},
   "outputs": [
    {
     "data": {
      "text/html": [
       "<div>\n",
       "<style scoped>\n",
       "    .dataframe tbody tr th:only-of-type {\n",
       "        vertical-align: middle;\n",
       "    }\n",
       "\n",
       "    .dataframe tbody tr th {\n",
       "        vertical-align: top;\n",
       "    }\n",
       "\n",
       "    .dataframe thead th {\n",
       "        text-align: right;\n",
       "    }\n",
       "</style>\n",
       "<table border=\"1\" class=\"dataframe\">\n",
       "  <thead>\n",
       "    <tr style=\"text-align: right;\">\n",
       "      <th></th>\n",
       "      <th>dice</th>\n",
       "      <th>sides</th>\n",
       "      <th>wounds</th>\n",
       "      <th>successes</th>\n",
       "      <th>floor</th>\n",
       "      <th>p_wounds_perc</th>\n",
       "      <th>p_successes_perc</th>\n",
       "      <th>error_perc</th>\n",
       "    </tr>\n",
       "  </thead>\n",
       "  <tbody>\n",
       "    <tr>\n",
       "      <th>0</th>\n",
       "      <td>19</td>\n",
       "      <td>20</td>\n",
       "      <td>3</td>\n",
       "      <td>17</td>\n",
       "      <td>10</td>\n",
       "      <td>0.1372</td>\n",
       "      <td>0.1528</td>\n",
       "      <td>11.4153</td>\n",
       "    </tr>\n",
       "    <tr>\n",
       "      <th>1</th>\n",
       "      <td>19</td>\n",
       "      <td>20</td>\n",
       "      <td>2</td>\n",
       "      <td>13</td>\n",
       "      <td>12</td>\n",
       "      <td>3.4294</td>\n",
       "      <td>3.4231</td>\n",
       "      <td>-0.1816</td>\n",
       "    </tr>\n",
       "    <tr>\n",
       "      <th>2</th>\n",
       "      <td>19</td>\n",
       "      <td>20</td>\n",
       "      <td>1</td>\n",
       "      <td>14</td>\n",
       "      <td>8</td>\n",
       "      <td>29.7668</td>\n",
       "      <td>29.6765</td>\n",
       "      <td>-0.3035</td>\n",
       "    </tr>\n",
       "  </tbody>\n",
       "</table>\n",
       "</div>"
      ],
      "text/plain": [
       "   dice  sides  wounds  successes  floor  p_wounds_perc  p_successes_perc  \\\n",
       "0    19     20       3         17     10         0.1372            0.1528   \n",
       "1    19     20       2         13     12         3.4294            3.4231   \n",
       "2    19     20       1         14      8        29.7668           29.6765   \n",
       "\n",
       "   error_perc  \n",
       "0     11.4153  \n",
       "1     -0.1816  \n",
       "2     -0.3035  "
      ]
     },
     "execution_count": 14,
     "metadata": {},
     "output_type": "execute_result"
    }
   ],
   "source": [
    "gen_rollhammer(DICE_DF, 3, 4, 5, 3)"
   ]
  },
  {
   "cell_type": "markdown",
   "metadata": {},
   "source": [
    "Use larger attacks for more impressive tables"
   ]
  },
  {
   "cell_type": "code",
   "execution_count": 15,
   "metadata": {},
   "outputs": [
    {
     "data": {
      "text/html": [
       "<div>\n",
       "<style scoped>\n",
       "    .dataframe tbody tr th:only-of-type {\n",
       "        vertical-align: middle;\n",
       "    }\n",
       "\n",
       "    .dataframe tbody tr th {\n",
       "        vertical-align: top;\n",
       "    }\n",
       "\n",
       "    .dataframe thead th {\n",
       "        text-align: right;\n",
       "    }\n",
       "</style>\n",
       "<table border=\"1\" class=\"dataframe\">\n",
       "  <thead>\n",
       "    <tr style=\"text-align: right;\">\n",
       "      <th></th>\n",
       "      <th>dice</th>\n",
       "      <th>sides</th>\n",
       "      <th>wounds</th>\n",
       "      <th>successes</th>\n",
       "      <th>floor</th>\n",
       "      <th>p_wounds_perc</th>\n",
       "      <th>p_successes_perc</th>\n",
       "      <th>error_perc</th>\n",
       "    </tr>\n",
       "  </thead>\n",
       "  <tbody>\n",
       "    <tr>\n",
       "      <th>0</th>\n",
       "      <td>10</td>\n",
       "      <td>8</td>\n",
       "      <td>10</td>\n",
       "      <td>10</td>\n",
       "      <td>8</td>\n",
       "      <td>0.0000</td>\n",
       "      <td>0.0000</td>\n",
       "      <td>0.0</td>\n",
       "    </tr>\n",
       "    <tr>\n",
       "      <th>1</th>\n",
       "      <td>10</td>\n",
       "      <td>8</td>\n",
       "      <td>9</td>\n",
       "      <td>9</td>\n",
       "      <td>8</td>\n",
       "      <td>0.0000</td>\n",
       "      <td>0.0000</td>\n",
       "      <td>0.0</td>\n",
       "    </tr>\n",
       "    <tr>\n",
       "      <th>2</th>\n",
       "      <td>10</td>\n",
       "      <td>8</td>\n",
       "      <td>8</td>\n",
       "      <td>8</td>\n",
       "      <td>8</td>\n",
       "      <td>0.0002</td>\n",
       "      <td>0.0002</td>\n",
       "      <td>0.0</td>\n",
       "    </tr>\n",
       "    <tr>\n",
       "      <th>3</th>\n",
       "      <td>10</td>\n",
       "      <td>8</td>\n",
       "      <td>7</td>\n",
       "      <td>7</td>\n",
       "      <td>8</td>\n",
       "      <td>0.0040</td>\n",
       "      <td>0.0040</td>\n",
       "      <td>0.0</td>\n",
       "    </tr>\n",
       "    <tr>\n",
       "      <th>4</th>\n",
       "      <td>10</td>\n",
       "      <td>8</td>\n",
       "      <td>6</td>\n",
       "      <td>6</td>\n",
       "      <td>8</td>\n",
       "      <td>0.0510</td>\n",
       "      <td>0.0510</td>\n",
       "      <td>0.0</td>\n",
       "    </tr>\n",
       "    <tr>\n",
       "      <th>5</th>\n",
       "      <td>10</td>\n",
       "      <td>8</td>\n",
       "      <td>5</td>\n",
       "      <td>5</td>\n",
       "      <td>8</td>\n",
       "      <td>0.4455</td>\n",
       "      <td>0.4455</td>\n",
       "      <td>0.0</td>\n",
       "    </tr>\n",
       "    <tr>\n",
       "      <th>6</th>\n",
       "      <td>10</td>\n",
       "      <td>8</td>\n",
       "      <td>4</td>\n",
       "      <td>4</td>\n",
       "      <td>8</td>\n",
       "      <td>2.7464</td>\n",
       "      <td>2.7464</td>\n",
       "      <td>0.0</td>\n",
       "    </tr>\n",
       "    <tr>\n",
       "      <th>7</th>\n",
       "      <td>10</td>\n",
       "      <td>8</td>\n",
       "      <td>3</td>\n",
       "      <td>3</td>\n",
       "      <td>8</td>\n",
       "      <td>11.9502</td>\n",
       "      <td>11.9502</td>\n",
       "      <td>0.0</td>\n",
       "    </tr>\n",
       "    <tr>\n",
       "      <th>8</th>\n",
       "      <td>10</td>\n",
       "      <td>8</td>\n",
       "      <td>2</td>\n",
       "      <td>2</td>\n",
       "      <td>8</td>\n",
       "      <td>36.1102</td>\n",
       "      <td>36.1102</td>\n",
       "      <td>0.0</td>\n",
       "    </tr>\n",
       "    <tr>\n",
       "      <th>9</th>\n",
       "      <td>10</td>\n",
       "      <td>8</td>\n",
       "      <td>1</td>\n",
       "      <td>1</td>\n",
       "      <td>8</td>\n",
       "      <td>73.6924</td>\n",
       "      <td>73.6924</td>\n",
       "      <td>0.0</td>\n",
       "    </tr>\n",
       "  </tbody>\n",
       "</table>\n",
       "</div>"
      ],
      "text/plain": [
       "   dice  sides  wounds  successes  floor  p_wounds_perc  p_successes_perc  \\\n",
       "0    10      8      10         10      8         0.0000            0.0000   \n",
       "1    10      8       9          9      8         0.0000            0.0000   \n",
       "2    10      8       8          8      8         0.0002            0.0002   \n",
       "3    10      8       7          7      8         0.0040            0.0040   \n",
       "4    10      8       6          6      8         0.0510            0.0510   \n",
       "5    10      8       5          5      8         0.4455            0.4455   \n",
       "6    10      8       4          4      8         2.7464            2.7464   \n",
       "7    10      8       3          3      8        11.9502           11.9502   \n",
       "8    10      8       2          2      8        36.1102           36.1102   \n",
       "9    10      8       1          1      8        73.6924           73.6924   \n",
       "\n",
       "   error_perc  \n",
       "0         0.0  \n",
       "1         0.0  \n",
       "2         0.0  \n",
       "3         0.0  \n",
       "4         0.0  \n",
       "5         0.0  \n",
       "6         0.0  \n",
       "7         0.0  \n",
       "8         0.0  \n",
       "9         0.0  "
      ]
     },
     "execution_count": 15,
     "metadata": {},
     "output_type": "execute_result"
    }
   ],
   "source": [
    "gen_rollhammer(DICE_DF, 4, 4, 4, 10)"
   ]
  }
 ],
 "metadata": {
  "kernelspec": {
   "display_name": "Python 3",
   "language": "python",
   "name": "python3"
  },
  "language_info": {
   "codemirror_mode": {
    "name": "ipython",
    "version": 3
   },
   "file_extension": ".py",
   "mimetype": "text/x-python",
   "name": "python",
   "nbconvert_exporter": "python",
   "pygments_lexer": "ipython3",
   "version": "3.9.0"
  }
 },
 "nbformat": 4,
 "nbformat_minor": 4
}
