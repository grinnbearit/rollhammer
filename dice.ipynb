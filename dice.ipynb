{
 "cells": [
  {
   "cell_type": "code",
   "execution_count": 1,
   "id": "06f69b13-0a69-404e-a406-2a49fd62fe3b",
   "metadata": {},
   "outputs": [],
   "source": [
    "import numpy as np\n",
    "import pandas as pd\n",
    "import scipy.stats as stats\n",
    "from fractions import Fraction"
   ]
  },
  {
   "cell_type": "markdown",
   "id": "62a3b30b-8dd8-4d32-af93-cfdcf016a314",
   "metadata": {},
   "source": [
    "# Dice"
   ]
  },
  {
   "cell_type": "markdown",
   "id": "0d3259fa-8a7b-4a84-83ac-edfd5780625a",
   "metadata": {},
   "source": [
    "Different probabilities for rolling 1 or more dice"
   ]
  },
  {
   "cell_type": "markdown",
   "id": "a65b8c19-3c34-4b0b-87f6-24bcef4843d1",
   "metadata": {},
   "source": [
    "## D6"
   ]
  },
  {
   "cell_type": "code",
   "execution_count": 2,
   "id": "d829bdce-9efa-4a10-9726-c24f49bda897",
   "metadata": {},
   "outputs": [
    {
     "data": {
      "text/html": [
       "<div>\n",
       "<style scoped>\n",
       "    .dataframe tbody tr th:only-of-type {\n",
       "        vertical-align: middle;\n",
       "    }\n",
       "\n",
       "    .dataframe tbody tr th {\n",
       "        vertical-align: top;\n",
       "    }\n",
       "\n",
       "    .dataframe thead th {\n",
       "        text-align: right;\n",
       "    }\n",
       "</style>\n",
       "<table border=\"1\" class=\"dataframe\">\n",
       "  <thead>\n",
       "    <tr style=\"text-align: right;\">\n",
       "      <th></th>\n",
       "      <th>x</th>\n",
       "    </tr>\n",
       "  </thead>\n",
       "  <tbody>\n",
       "    <tr>\n",
       "      <th>0</th>\n",
       "      <td>1</td>\n",
       "    </tr>\n",
       "    <tr>\n",
       "      <th>1</th>\n",
       "      <td>2</td>\n",
       "    </tr>\n",
       "    <tr>\n",
       "      <th>2</th>\n",
       "      <td>3</td>\n",
       "    </tr>\n",
       "    <tr>\n",
       "      <th>3</th>\n",
       "      <td>4</td>\n",
       "    </tr>\n",
       "    <tr>\n",
       "      <th>4</th>\n",
       "      <td>5</td>\n",
       "    </tr>\n",
       "    <tr>\n",
       "      <th>5</th>\n",
       "      <td>6</td>\n",
       "    </tr>\n",
       "  </tbody>\n",
       "</table>\n",
       "</div>"
      ],
      "text/plain": [
       "   x\n",
       "0  1\n",
       "1  2\n",
       "2  3\n",
       "3  4\n",
       "4  5\n",
       "5  6"
      ]
     },
     "execution_count": 2,
     "metadata": {},
     "output_type": "execute_result"
    }
   ],
   "source": [
    "d6 = (pd.DataFrame([x for x in range(1, 7)], columns=[\"x\"]))\n",
    "d6"
   ]
  },
  {
   "cell_type": "markdown",
   "id": "6387bd85-ab64-4c72-9ce7-bdd09c208b3d",
   "metadata": {},
   "source": [
    "## 2D6"
   ]
  },
  {
   "cell_type": "code",
   "execution_count": 3,
   "id": "f6dce2ed-c644-47de-9246-43615a6e3107",
   "metadata": {},
   "outputs": [
    {
     "data": {
      "text/html": [
       "<div>\n",
       "<style scoped>\n",
       "    .dataframe tbody tr th:only-of-type {\n",
       "        vertical-align: middle;\n",
       "    }\n",
       "\n",
       "    .dataframe tbody tr th {\n",
       "        vertical-align: top;\n",
       "    }\n",
       "\n",
       "    .dataframe thead th {\n",
       "        text-align: right;\n",
       "    }\n",
       "</style>\n",
       "<table border=\"1\" class=\"dataframe\">\n",
       "  <thead>\n",
       "    <tr style=\"text-align: right;\">\n",
       "      <th></th>\n",
       "      <th>x</th>\n",
       "      <th>y</th>\n",
       "      <th>total</th>\n",
       "      <th>highest</th>\n",
       "      <th>lowest</th>\n",
       "    </tr>\n",
       "  </thead>\n",
       "  <tbody>\n",
       "    <tr>\n",
       "      <th>0</th>\n",
       "      <td>1</td>\n",
       "      <td>1</td>\n",
       "      <td>2</td>\n",
       "      <td>1</td>\n",
       "      <td>1</td>\n",
       "    </tr>\n",
       "    <tr>\n",
       "      <th>1</th>\n",
       "      <td>1</td>\n",
       "      <td>2</td>\n",
       "      <td>3</td>\n",
       "      <td>2</td>\n",
       "      <td>1</td>\n",
       "    </tr>\n",
       "    <tr>\n",
       "      <th>2</th>\n",
       "      <td>1</td>\n",
       "      <td>3</td>\n",
       "      <td>4</td>\n",
       "      <td>3</td>\n",
       "      <td>1</td>\n",
       "    </tr>\n",
       "    <tr>\n",
       "      <th>3</th>\n",
       "      <td>1</td>\n",
       "      <td>4</td>\n",
       "      <td>5</td>\n",
       "      <td>4</td>\n",
       "      <td>1</td>\n",
       "    </tr>\n",
       "    <tr>\n",
       "      <th>4</th>\n",
       "      <td>1</td>\n",
       "      <td>5</td>\n",
       "      <td>6</td>\n",
       "      <td>5</td>\n",
       "      <td>1</td>\n",
       "    </tr>\n",
       "    <tr>\n",
       "      <th>5</th>\n",
       "      <td>1</td>\n",
       "      <td>6</td>\n",
       "      <td>7</td>\n",
       "      <td>6</td>\n",
       "      <td>1</td>\n",
       "    </tr>\n",
       "    <tr>\n",
       "      <th>6</th>\n",
       "      <td>2</td>\n",
       "      <td>1</td>\n",
       "      <td>3</td>\n",
       "      <td>2</td>\n",
       "      <td>1</td>\n",
       "    </tr>\n",
       "  </tbody>\n",
       "</table>\n",
       "</div>"
      ],
      "text/plain": [
       "   x  y  total  highest  lowest\n",
       "0  1  1      2        1       1\n",
       "1  1  2      3        2       1\n",
       "2  1  3      4        3       1\n",
       "3  1  4      5        4       1\n",
       "4  1  5      6        5       1\n",
       "5  1  6      7        6       1\n",
       "6  2  1      3        2       1"
      ]
     },
     "execution_count": 3,
     "metadata": {},
     "output_type": "execute_result"
    }
   ],
   "source": [
    "d2_6 = (pd.DataFrame([(x, y) for x in range(1, 7) for y in range(1, 7)], columns=[\"x\", \"y\"])\n",
    "        .assign(total=lambda df: df[\"x\"] + df[\"y\"],\n",
    "                highest=lambda df: np.where(df[\"x\"] > df[\"y\"], df[\"x\"], df[\"y\"]),\n",
    "                lowest=lambda df: df[\"total\"] - df[\"highest\"]))\n",
    "d2_6[:7]"
   ]
  },
  {
   "cell_type": "markdown",
   "id": "186d0977-a06e-40d5-b8e0-16cb126bf059",
   "metadata": {},
   "source": [
    "## 3D6"
   ]
  },
  {
   "cell_type": "code",
   "execution_count": 4,
   "id": "d35b0e8d-1b69-4246-bd19-a9c356dc9424",
   "metadata": {},
   "outputs": [
    {
     "data": {
      "text/html": [
       "<div>\n",
       "<style scoped>\n",
       "    .dataframe tbody tr th:only-of-type {\n",
       "        vertical-align: middle;\n",
       "    }\n",
       "\n",
       "    .dataframe tbody tr th {\n",
       "        vertical-align: top;\n",
       "    }\n",
       "\n",
       "    .dataframe thead th {\n",
       "        text-align: right;\n",
       "    }\n",
       "</style>\n",
       "<table border=\"1\" class=\"dataframe\">\n",
       "  <thead>\n",
       "    <tr style=\"text-align: right;\">\n",
       "      <th></th>\n",
       "      <th>x</th>\n",
       "      <th>y</th>\n",
       "      <th>z</th>\n",
       "      <th>total</th>\n",
       "      <th>highest</th>\n",
       "      <th>lowest</th>\n",
       "      <th>highest_2</th>\n",
       "      <th>lowest_2</th>\n",
       "    </tr>\n",
       "  </thead>\n",
       "  <tbody>\n",
       "    <tr>\n",
       "      <th>0</th>\n",
       "      <td>1</td>\n",
       "      <td>1</td>\n",
       "      <td>1</td>\n",
       "      <td>3</td>\n",
       "      <td>1</td>\n",
       "      <td>1</td>\n",
       "      <td>2</td>\n",
       "      <td>2</td>\n",
       "    </tr>\n",
       "    <tr>\n",
       "      <th>1</th>\n",
       "      <td>1</td>\n",
       "      <td>1</td>\n",
       "      <td>2</td>\n",
       "      <td>4</td>\n",
       "      <td>2</td>\n",
       "      <td>1</td>\n",
       "      <td>3</td>\n",
       "      <td>2</td>\n",
       "    </tr>\n",
       "    <tr>\n",
       "      <th>2</th>\n",
       "      <td>1</td>\n",
       "      <td>1</td>\n",
       "      <td>3</td>\n",
       "      <td>5</td>\n",
       "      <td>3</td>\n",
       "      <td>1</td>\n",
       "      <td>4</td>\n",
       "      <td>2</td>\n",
       "    </tr>\n",
       "    <tr>\n",
       "      <th>3</th>\n",
       "      <td>1</td>\n",
       "      <td>1</td>\n",
       "      <td>4</td>\n",
       "      <td>6</td>\n",
       "      <td>4</td>\n",
       "      <td>1</td>\n",
       "      <td>5</td>\n",
       "      <td>2</td>\n",
       "    </tr>\n",
       "    <tr>\n",
       "      <th>4</th>\n",
       "      <td>1</td>\n",
       "      <td>1</td>\n",
       "      <td>5</td>\n",
       "      <td>7</td>\n",
       "      <td>5</td>\n",
       "      <td>1</td>\n",
       "      <td>6</td>\n",
       "      <td>2</td>\n",
       "    </tr>\n",
       "    <tr>\n",
       "      <th>5</th>\n",
       "      <td>1</td>\n",
       "      <td>1</td>\n",
       "      <td>6</td>\n",
       "      <td>8</td>\n",
       "      <td>6</td>\n",
       "      <td>1</td>\n",
       "      <td>7</td>\n",
       "      <td>2</td>\n",
       "    </tr>\n",
       "    <tr>\n",
       "      <th>6</th>\n",
       "      <td>1</td>\n",
       "      <td>2</td>\n",
       "      <td>1</td>\n",
       "      <td>4</td>\n",
       "      <td>2</td>\n",
       "      <td>1</td>\n",
       "      <td>3</td>\n",
       "      <td>2</td>\n",
       "    </tr>\n",
       "  </tbody>\n",
       "</table>\n",
       "</div>"
      ],
      "text/plain": [
       "   x  y  z  total  highest  lowest  highest_2  lowest_2\n",
       "0  1  1  1      3        1       1          2         2\n",
       "1  1  1  2      4        2       1          3         2\n",
       "2  1  1  3      5        3       1          4         2\n",
       "3  1  1  4      6        4       1          5         2\n",
       "4  1  1  5      7        5       1          6         2\n",
       "5  1  1  6      8        6       1          7         2\n",
       "6  1  2  1      4        2       1          3         2"
      ]
     },
     "execution_count": 4,
     "metadata": {},
     "output_type": "execute_result"
    }
   ],
   "source": [
    "d3_6 = (pd.DataFrame([(x, y, z) for x in range(1, 7) for y in range(1, 7) for z in range(1, 7)], columns=[\"x\", \"y\", \"z\"])\n",
    "        .assign(total=lambda df: df[\"x\"] + df[\"y\"] + df[\"z\"],        \n",
    "                highest=lambda df: np.max(np.array([df[\"x\"], df[\"y\"], df[\"z\"]]), axis=0),\n",
    "                lowest=lambda df: np.min(np.array([df[\"x\"], df[\"y\"], df[\"z\"]]), axis=0),\n",
    "                highest_2=lambda df: df[\"total\"] - df[\"lowest\"],\n",
    "                lowest_2=lambda df: df[\"total\"] - df[\"highest\"]))\n",
    "d3_6[:7]"
   ]
  },
  {
   "cell_type": "code",
   "execution_count": 5,
   "id": "0f1abd70-4209-4488-b9e6-71ecff464789",
   "metadata": {},
   "outputs": [
    {
     "data": {
      "text/plain": [
       "3.5"
      ]
     },
     "execution_count": 5,
     "metadata": {},
     "output_type": "execute_result"
    }
   ],
   "source": [
    "d6[\"x\"].mean()"
   ]
  },
  {
   "cell_type": "code",
   "execution_count": 6,
   "id": "d26e5ee7-33c5-47ed-8442-f5719f1a391c",
   "metadata": {},
   "outputs": [
    {
     "data": {
      "text/plain": [
       "4.472222222222222"
      ]
     },
     "execution_count": 6,
     "metadata": {},
     "output_type": "execute_result"
    }
   ],
   "source": [
    "d2_6[\"highest\"].mean()"
   ]
  },
  {
   "cell_type": "code",
   "execution_count": 7,
   "id": "56ba00bb-d46e-4f58-b374-7a4dfdc6b1a4",
   "metadata": {},
   "outputs": [
    {
     "data": {
      "text/plain": [
       "8.458333333333334"
      ]
     },
     "execution_count": 7,
     "metadata": {},
     "output_type": "execute_result"
    }
   ],
   "source": [
    "d3_6[\"highest_2\"].mean()"
   ]
  },
  {
   "cell_type": "code",
   "execution_count": 8,
   "id": "db16b683-a278-466f-a6f2-ca43901b3b76",
   "metadata": {},
   "outputs": [
    {
     "data": {
      "text/plain": [
       "6.03129"
      ]
     },
     "execution_count": 8,
     "metadata": {},
     "output_type": "execute_result"
    }
   ],
   "source": [
    "SAMPLES = 100000\n",
    "rolls = stats.randint(1, 7).rvs((SAMPLES, 2)).sum(axis=1)\n",
    "rerolls = stats.randint(1, 7).rvs((SAMPLES, 2)).sum(axis=1)\n",
    "replacements = np.where(rolls > 7, rerolls, rolls)\n",
    "replacements.mean()"
   ]
  }
 ],
 "metadata": {
  "kernelspec": {
   "display_name": "Python 3 (ipykernel)",
   "language": "python",
   "name": "python3"
  },
  "language_info": {
   "codemirror_mode": {
    "name": "ipython",
    "version": 3
   },
   "file_extension": ".py",
   "mimetype": "text/x-python",
   "name": "python",
   "nbconvert_exporter": "python",
   "pygments_lexer": "ipython3",
   "version": "3.10.9"
  }
 },
 "nbformat": 4,
 "nbformat_minor": 5
}
