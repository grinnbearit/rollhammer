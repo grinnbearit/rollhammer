{
 "cells": [
  {
   "cell_type": "markdown",
   "id": "ac448c7d-9bff-4a51-9ca2-c09836f9695e",
   "metadata": {},
   "source": [
    "# Break Tests"
   ]
  },
  {
   "cell_type": "code",
   "execution_count": 5,
   "id": "516bab28-db8e-493b-bbee-cfe9680ef50e",
   "metadata": {},
   "outputs": [],
   "source": [
    "import numpy as np\n",
    "import pandas as pd\n",
    "import seaborn as sns\n",
    "import scipy.signal as sig\n",
    "import scipy.stats as stats\n",
    "from fractions import Fraction\n",
    "import matplotlib.pyplot as plt"
   ]
  },
  {
   "cell_type": "code",
   "execution_count": 2,
   "id": "87cf1398-8d5f-4c10-a4b3-549a8abdf7d3",
   "metadata": {},
   "outputs": [],
   "source": [
    "sns.set_theme()"
   ]
  },
  {
   "cell_type": "markdown",
   "id": "6c81bb13-bde0-4b43-b379-cea91c8d6f89",
   "metadata": {},
   "source": [
    "## Understanding Break Tests\n",
    "\n",
    "Break tests, in Memoirs of the Old World, happen when any unit takes a wound.\n",
    "2D6 is rolled and compared to the unit's leadership (Ld)\n",
    "\n",
    "If it's at or below Ld, the unit stays firm and can even counter attack\n",
    "\n",
    "If it exceeds it, the unit breaks, and makes a forced retreat for every point it breaks by up to its max flee range.\n",
    "However, for every hex retreated the unit can nullify one wound.\n",
    "\n",
    "Two factors influence a break test score.\n",
    "\n",
    "* Add 1 to the dice roll for every wound that the unit could take\n",
    "* Subtract 1 from the dice roll for every allied unit adjacent to this unit\n",
    "\n",
    "Additionally, rolling an unmodified double 1, “insane courage”, always holds the unit while an unmodified double 6 always breaks."
   ]
  },
  {
   "cell_type": "code",
   "execution_count": 34,
   "id": "d62eefd3-f7d3-411a-862c-673e0d508c24",
   "metadata": {},
   "outputs": [
    {
     "data": {
      "text/html": [
       "<div>\n",
       "<style scoped>\n",
       "    .dataframe tbody tr th:only-of-type {\n",
       "        vertical-align: middle;\n",
       "    }\n",
       "\n",
       "    .dataframe tbody tr th {\n",
       "        vertical-align: top;\n",
       "    }\n",
       "\n",
       "    .dataframe thead th {\n",
       "        text-align: right;\n",
       "    }\n",
       "</style>\n",
       "<table border=\"1\" class=\"dataframe\">\n",
       "  <thead>\n",
       "    <tr style=\"text-align: right;\">\n",
       "      <th></th>\n",
       "      <th>prob</th>\n",
       "    </tr>\n",
       "    <tr>\n",
       "      <th>roll</th>\n",
       "      <th></th>\n",
       "    </tr>\n",
       "  </thead>\n",
       "  <tbody>\n",
       "    <tr>\n",
       "      <th>2</th>\n",
       "      <td>0.027778</td>\n",
       "    </tr>\n",
       "    <tr>\n",
       "      <th>3</th>\n",
       "      <td>0.055556</td>\n",
       "    </tr>\n",
       "    <tr>\n",
       "      <th>4</th>\n",
       "      <td>0.083333</td>\n",
       "    </tr>\n",
       "    <tr>\n",
       "      <th>5</th>\n",
       "      <td>0.111111</td>\n",
       "    </tr>\n",
       "    <tr>\n",
       "      <th>6</th>\n",
       "      <td>0.138889</td>\n",
       "    </tr>\n",
       "    <tr>\n",
       "      <th>7</th>\n",
       "      <td>0.166667</td>\n",
       "    </tr>\n",
       "    <tr>\n",
       "      <th>8</th>\n",
       "      <td>0.138889</td>\n",
       "    </tr>\n",
       "    <tr>\n",
       "      <th>9</th>\n",
       "      <td>0.111111</td>\n",
       "    </tr>\n",
       "    <tr>\n",
       "      <th>10</th>\n",
       "      <td>0.083333</td>\n",
       "    </tr>\n",
       "    <tr>\n",
       "      <th>11</th>\n",
       "      <td>0.055556</td>\n",
       "    </tr>\n",
       "    <tr>\n",
       "      <th>12</th>\n",
       "      <td>0.027778</td>\n",
       "    </tr>\n",
       "  </tbody>\n",
       "</table>\n",
       "</div>"
      ],
      "text/plain": [
       "          prob\n",
       "roll          \n",
       "2     0.027778\n",
       "3     0.055556\n",
       "4     0.083333\n",
       "5     0.111111\n",
       "6     0.138889\n",
       "7     0.166667\n",
       "8     0.138889\n",
       "9     0.111111\n",
       "10    0.083333\n",
       "11    0.055556\n",
       "12    0.027778"
      ]
     },
     "execution_count": 34,
     "metadata": {},
     "output_type": "execute_result"
    }
   ],
   "source": [
    "D6 = stats.randint(1, 7).pmf(range(1, 7))\n",
    "TWOD6 = sig.convolve(D6, D6)\n",
    "BREAK_TABLE = (pd.DataFrame(zip(range(2, 13), TWOD6),\n",
    "                            columns=[\"roll\", \"prob\"])\n",
    "               .set_index(\"roll\"))\n",
    "BREAK_TABLE"
   ]
  },
  {
   "cell_type": "code",
   "execution_count": 39,
   "id": "565eae53-86d6-4c3b-933e-03440cbf770d",
   "metadata": {},
   "outputs": [],
   "source": [
    "def calc_break_roll(ld, wounds=0, allies=0):\n",
    "    roll = ld - wounds + allies\n",
    "    if ld < 2:\n",
    "        roll = 2\n",
    "    if ld > 12:\n",
    "        roll = 12\n",
    "    return roll+1"
   ]
  },
  {
   "cell_type": "code",
   "execution_count": 123,
   "id": "0f2c5f6f-72ec-4da0-94cc-fdfe41ef1349",
   "metadata": {},
   "outputs": [],
   "source": [
    "def break_states(ld, wounds=0, flee=0, allies=0):\n",
    "    break_roll = calc_break_roll(ld, wounds, allies)\n",
    "    pass_break = [(\"pass\", roll, 0, wounds, BREAK_TABLE.loc[roll][\"prob\"])\n",
    "                  for roll in range(2, break_roll)]\n",
    "    flee_break = [(\"flee\", break_roll+f-1, f, wounds-f, BREAK_TABLE.loc[break_roll+f-1][\"prob\"]) \n",
    "                  for f in range(1, min(wounds, flee)+1)]\n",
    "    over_break = [(\"over\", roll, flee, max(wounds-flee, 0), BREAK_TABLE.loc[roll][\"prob\"])\n",
    "                  for roll in range(break_roll+min(wounds, flee), 13)]\n",
    "    return pd.DataFrame(pass_break+flee_break+over_break,\n",
    "                        columns=[\"state\", \"roll\", \"flee\", \"wounds\", \"prob\"])"
   ]
  },
  {
   "cell_type": "code",
   "execution_count": 145,
   "id": "7755f0a8-5291-4ab6-896d-d270287d407a",
   "metadata": {},
   "outputs": [],
   "source": [
    "def break_dist(ld, wounds=0, flee=0, allies=0):\n",
    "    return (break_states(ld, wounds, flee, allies)\n",
    "            .groupby([\"flee\", \"wounds\", \"state\"])[\"prob\"].sum()\n",
    "            .sort_index())"
   ]
  },
  {
   "cell_type": "code",
   "execution_count": 148,
   "id": "4e464e42-7bba-4653-9842-91b2fb73f7c4",
   "metadata": {},
   "outputs": [
    {
     "data": {
      "text/plain": [
       "flee  wounds  state\n",
       "0     3       pass     0.166667\n",
       "1     2       flee     0.111111\n",
       "2     1       flee     0.138889\n",
       "              over     0.583333\n",
       "Name: prob, dtype: float64"
      ]
     },
     "execution_count": 148,
     "metadata": {},
     "output_type": "execute_result"
    }
   ],
   "source": [
    "break_dist(7, 3, 2)"
   ]
  }
 ],
 "metadata": {
  "kernelspec": {
   "display_name": "Python 3 (ipykernel)",
   "language": "python",
   "name": "python3"
  },
  "language_info": {
   "codemirror_mode": {
    "name": "ipython",
    "version": 3
   },
   "file_extension": ".py",
   "mimetype": "text/x-python",
   "name": "python",
   "nbconvert_exporter": "python",
   "pygments_lexer": "ipython3",
   "version": "3.10.9"
  }
 },
 "nbformat": 4,
 "nbformat_minor": 5
}
